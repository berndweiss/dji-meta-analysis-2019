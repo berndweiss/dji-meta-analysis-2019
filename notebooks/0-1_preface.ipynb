{
 "cells": [
  {
   "cell_type": "markdown",
   "metadata": {},
   "source": [
    "<h1>A two-day workshop at the DJI, Munich 2019:<br> Meta-Analysis in Social Research<span class=\"tocSkip\"></span></h1>"
   ]
  },
  {
   "cell_type": "markdown",
   "metadata": {
    "toc": true
   },
   "source": [
    "<h1>Table of Contents<span class=\"tocSkip\"></span></h1>\n",
    "<div class=\"toc\"><ul class=\"toc-item\"><li><span><a href=\"#Introduction\" data-toc-modified-id=\"Introduction-1\"><span class=\"toc-item-num\">1&nbsp;&nbsp;</span>Introduction</a></span></li><li><span><a href=\"#Using-a-Jupyter-notebook\" data-toc-modified-id=\"Using-a-Jupyter-notebook-2\"><span class=\"toc-item-num\">2&nbsp;&nbsp;</span>Using a Jupyter notebook</a></span><ul class=\"toc-item\"><li><span><a href=\"#Important-remarks-when-working-with-Jupyter-notebooks\" data-toc-modified-id=\"Important-remarks-when-working-with-Jupyter-notebooks-2.1\"><span class=\"toc-item-num\">2.1&nbsp;&nbsp;</span>Important remarks when working with Jupyter notebooks</a></span></li><li><span><a href=\"#Working-with-Jupyter-notebook-cells\" data-toc-modified-id=\"Working-with-Jupyter-notebook-cells-2.2\"><span class=\"toc-item-num\">2.2&nbsp;&nbsp;</span>Working with Jupyter notebook cells</a></span></li></ul></li><li><span><a href=\"#Saving/Downloading-Jupyter-notebooks\" data-toc-modified-id=\"Saving/Downloading-Jupyter-notebooks-3\"><span class=\"toc-item-num\">3&nbsp;&nbsp;</span>Saving/Downloading Jupyter notebooks</a></span></li><li><span><a href=\"#Turn-on-table-of-contents\" data-toc-modified-id=\"Turn-on-table-of-contents-4\"><span class=\"toc-item-num\">4&nbsp;&nbsp;</span>Turn on table of contents</a></span></li><li><span><a href=\"#Shortcuts\" data-toc-modified-id=\"Shortcuts-5\"><span class=\"toc-item-num\">5&nbsp;&nbsp;</span>Shortcuts</a></span></li><li><span><a href=\"#Markdown\" data-toc-modified-id=\"Markdown-6\"><span class=\"toc-item-num\">6&nbsp;&nbsp;</span>Markdown</a></span></li></ul></div>"
   ]
  },
  {
   "cell_type": "markdown",
   "metadata": {},
   "source": [
    "## Introduction"
   ]
  },
  {
   "cell_type": "markdown",
   "metadata": {},
   "source": [
    "For the lab sessions, we will be utilizing a system called [\"Jupyter notebooks\"](http://jupyter.org/). The huge advantage for you (and us) is that we do not have to bother with setting up R and and an editor for R on your local computer. The disadvantage is that these notebooks \"live\" on a server and can only be accessed when you are online. However, you can alwys save these notebooks to your computer (in different file formats if you like).\n",
    "\n",
    "As a side note for those who know Python: Jupyter notebooks can, of course, also installed locally, for more information, see [http://jupyter.org/install](http://jupyter.org/install). \n",
    "\n",
    "Notebooks are interactive documents composed of \"cells\". These \"cells\" can contain text as well as code, e.g. R or Python code. Most paragraphs in this section are cells (of type Markdown, which is a simple markup language, see section [Markdown](#Markdown) for more information). The next paragraph/cells, however, is a code cell, showing the full power of R:"
   ]
  },
  {
   "cell_type": "code",
   "execution_count": 4,
   "metadata": {},
   "outputs": [
    {
     "data": {
      "text/html": [
       "8"
      ],
      "text/latex": [
       "8"
      ],
      "text/markdown": [
       "8"
      ],
      "text/plain": [
       "[1] 8"
      ]
     },
     "metadata": {},
     "output_type": "display_data"
    }
   ],
   "source": [
    "4*2+1-1/1"
   ]
  },
  {
   "cell_type": "markdown",
   "metadata": {},
   "source": [
    "We also can include plots very easily:"
   ]
  },
  {
   "cell_type": "code",
   "execution_count": 5,
   "metadata": {},
   "outputs": [
    {
     "data": {
      "image/png": "[encoded data removed]",
      "text/plain": [
       "Plot with title \"Histogram of rnorm(100)\""
      ]
     },
     "metadata": {},
     "output_type": "display_data"
    }
   ],
   "source": [
    "options(repr.plot.width = 4, repr.plot.height = 3) ## this line changes the plot size\n",
    "hist(rnorm(100))"
   ]
  },
  {
   "cell_type": "markdown",
   "metadata": {},
   "source": [
    "## Using a Jupyter notebook"
   ]
  },
  {
   "cell_type": "markdown",
   "metadata": {},
   "source": [
    "Jupter notebooks (short: notebooks) are interactive documents, where R code and documentation (Markdown formated text) can be combined. \n",
    "\n",
    "Notebooks are composed of cells, e.g., this paragraph is a single Markdown/text cell. Cells can also be of type \"Code\" (here: R code). Code cells can be executed, that is, the R code in this cells is executed.    \n",
    "\n",
    "If you activate a cell, either by clicking in it or by by moving your cursor through the document (and then hitting \"Return\"), you can manipulate existing cells."
   ]
  },
  {
   "cell_type": "markdown",
   "metadata": {},
   "source": [
    "### Important remarks when working with Jupyter notebooks"
   ]
  },
  {
   "cell_type": "markdown",
   "metadata": {},
   "source": [
    "1. We are currently testing the usefulness of Jupyter notebooks in teaching. So, a few things are currently not working that will be in the not so distant future.\n",
    "2. When working with notebooks, make sure not to close the browser -- otherwise the notebook is lost. Again, the notebook is lost when you close the Browser.\n",
    "3. In order to prevent loosing the notebook when you (accidentially) closed the browser, you can do two things:\n",
    "   1. We **strongly recommend copying the session link** in order to restart the notebook. You can do so by hitting the \"Copy session link\" in the upper right corner of the notebook. Save the link somewhere and you can recover your notebook within 30 minutes. The link will look like this: `https://notebooks.gesis.org/binder/jupyter/user/berndweiss-dj-a-analysis-2019-o23m58a1/tree?token=h8g583spRoe_Qlz2bEhvfw`. Again, this only works for about 30 minutes after closing the notebook. if you want permantely save the notebook, see the next bullet point.   \n",
    "   2. You can save the notebook as the local file (go to \"File\" -> \"Download as\"; do **not** use \"Save as\").\n",
    "4. We will always provide the solution to the exercises.  "
   ]
  },
  {
   "cell_type": "markdown",
   "metadata": {},
   "source": [
    "### Working with Jupyter notebook cells"
   ]
  },
  {
   "cell_type": "markdown",
   "metadata": {},
   "source": [
    "Cells can be updated, executed (run), deleted, and added. You can this either by using the menu above (see \"Insert\", \"Cell\" or \"Edit\"). To speed things up, though, it is always a good idea to learn a few shortcuts (see the section on \"Shortcuts\"). Before going into detail, we have to introduce the two modes a cell can have: *edit mode* and *command mode*. \n",
    "- In *edit mode* you can write text or code or execute text (i.e. format code) or code. You can enter *edit mode* by clicking in a cell or if you move through your document in *command mode* by hitting the \"Enter\" key. The active cell is surounded by a green box. \n",
    "- In *command mode* you can change the cell type (Markdown <-> R), delete or add cells. To switch to *command mode*, you can hit the \"Esc\" key. The active cell in *command mode* is surounded by a blue box.\n"
   ]
  },
  {
   "cell_type": "markdown",
   "metadata": {},
   "source": [
    "To execute a cell, choose \"Cell\" in the menue and then \"Run cells\" or one of the other commands. If you execute a Markdown cell, it will render the text. And, if you execute an R code cell, the R code will be executed. Code cells also have a little \"play button >|\" on the left side of the cell. Check out the R code cell below. "
   ]
  },
  {
   "cell_type": "code",
   "execution_count": 6,
   "metadata": {},
   "outputs": [
    {
     "data": {
      "text/html": [
       "2"
      ],
      "text/latex": [
       "2"
      ],
      "text/markdown": [
       "2"
      ],
      "text/plain": [
       "[1] 2"
      ]
     },
     "metadata": {},
     "output_type": "display_data"
    }
   ],
   "source": [
    "1+1"
   ]
  },
  {
   "cell_type": "markdown",
   "metadata": {},
   "source": [
    "To execute all cells of a notebook, go to \"Cell\" and select \"Run all\". "
   ]
  },
  {
   "cell_type": "markdown",
   "metadata": {},
   "source": [
    "## Saving/Downloading Jupyter notebooks"
   ]
  },
  {
   "cell_type": "markdown",
   "metadata": {},
   "source": [
    "You can save (and download) the Jupyter notebook as well as export it to various formats (HTML, PDF etc.). \n",
    "- Even though there exists an \"autosave\" feature, it is a good idea to save the current notebook you are working on on a regulary basis. It is either \"File -> Save and Checkpoint\" in the menue, or \"STRG + s\" (which we strongly recommend).\n",
    "- To download the original Jupyter notebook, use the \"File\" menu and select \"Download as -> Notebook (.ipynb)\". Please download your notebook at the end of the lab session, once the Browser is closed your work is gone for good! (well, there is the 30 minutes loophole, see \"Important remarks when working with Jupyter notebooks\" for details).\n"
   ]
  },
  {
   "cell_type": "markdown",
   "metadata": {},
   "source": [
    "## Turn on table of contents"
   ]
  },
  {
   "cell_type": "markdown",
   "metadata": {},
   "source": [
    "**solved**  ~~Notebooks can have table of contents, which can make navigation much easier. Unfortunately, you have to turn on this feature each time you start your notebooks.To do so, go to the `Nbextensions` tab.~~"
   ]
  },
  {
   "cell_type": "markdown",
   "metadata": {},
   "source": [
    "<img src=\"figure/f_screen_nb_nbextension.png\" width=\"400\" height=\"600\" />"
   ]
  },
  {
   "cell_type": "markdown",
   "metadata": {},
   "source": [
    "Next, activate the `Table of contents (2)` checkbox, see screenshot below. That should do it."
   ]
  },
  {
   "cell_type": "markdown",
   "metadata": {},
   "source": [
    "<img src=\"figure/f_screen_nb_nbextension_toc2.png\" width=\"400\" height=\"200\" />"
   ]
  },
  {
   "cell_type": "markdown",
   "metadata": {},
   "source": [
    "## Shortcuts"
   ]
  },
  {
   "cell_type": "markdown",
   "metadata": {},
   "source": [
    "Brief reminder about \"modes\": You can either be in \"command\" or in \"edit\" mode when working with Jupyter notebooks. When you want to edit a cell, you can switch to \"edit mode\" by clicking into the respective cell or be hitting the \"Return\" key. You can go back to \"command mode\" by hitting the \"Esc\" key. "
   ]
  },
  {
   "cell_type": "markdown",
   "metadata": {},
   "source": [
    "When in command or edit mode:\n",
    "\n",
    "- [Shift-Enter] run cell, select below\n",
    "- [Ctrl-Enter] run selected cells\n",
    "- [Alt-Enter] run cell and insert below\n",
    "- [Esc, Ctrl-A, Shift-Enter] Execute all.\n",
    "\n",
    "When in command mode:\n",
    "- [Y, y] change cell to code\n",
    "- [M, m] change cell to markdown\n",
    "- [A, a] insert cell above\n",
    "- [B, b] insert cell below\n",
    "- [D,D] delete selected cells\n"
   ]
  },
  {
   "cell_type": "markdown",
   "metadata": {},
   "source": [
    "## Markdown"
   ]
  },
  {
   "cell_type": "markdown",
   "metadata": {},
   "source": [
    "Markdown is a simple markup language (or \"a plain text formatting syntax\"). That is, you write `*awesome*` to emphasize the word *awesome* or `**bold**` for **bold**. The original Markdown website is [https://daringfireball.net/projects/markdown/](https://daringfireball.net/projects/markdown/).\n",
    "\n",
    "In the context of Jupyter notebooks, however, we recommend the following websites:\n",
    "- [Working with Markdown cells](http://jupyter-notebook.readthedocs.io/en/stable/examples/Notebook/Working%20With%20Markdown%20Cells.html)\n",
    "- [IBM's Markdown for Jupyter notebooks cheatsheet](https://www.ibm.com/support/knowledgecenter/en/SSGNPV/eventstore/dsx/markd-jupyter.html)"
   ]
  }
 ],
 "metadata": {
  "kernelspec": {
   "display_name": "R",
   "language": "R",
   "name": "ir"
  },
  "language_info": {
   "codemirror_mode": "r",
   "file_extension": ".r",
   "mimetype": "text/x-r-source",
   "name": "R",
   "pygments_lexer": "r",
   "version": "3.6.1"
  },
  "toc": {
   "base_numbering": 1,
   "nav_menu": {
    "height": "181px",
    "width": "372px"
   },
   "number_sections": true,
   "sideBar": true,
   "skip_h1_title": false,
   "title_cell": "Table of Contents",
   "title_sidebar": "Contents",
   "toc_cell": true,
   "toc_position": {
    "height": "calc(100% - 180px)",
    "left": "10px",
    "top": "150px",
    "width": "165px"
   },
   "toc_section_display": true,
   "toc_window_display": true
  }
 },
 "nbformat": 4,
 "nbformat_minor": 2
}
