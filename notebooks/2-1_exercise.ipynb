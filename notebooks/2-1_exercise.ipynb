{
 "cells": [
  {
   "cell_type": "markdown",
   "metadata": {},
   "source": [
    "<h1>A two-day workshop at the DJI, Munich 2019:<br> Meta-Analysis in Social Research<span class=\"tocSkip\"></span></h1>"
   ]
  },
  {
   "cell_type": "markdown",
   "metadata": {
    "toc": true
   },
   "source": [
    "<h1>Table of Contents<span class=\"tocSkip\"></span></h1>\n",
    "<div class=\"toc\"><ul class=\"toc-item\"><li><span><a href=\"#Preliminaries\" data-toc-modified-id=\"Preliminaries-1\"><span class=\"toc-item-num\">1&nbsp;&nbsp;</span>Preliminaries</a></span></li><li><span><a href=\"#Exercise\" data-toc-modified-id=\"Exercise-2\"><span class=\"toc-item-num\">2&nbsp;&nbsp;</span>Exercise</a></span><ul class=\"toc-item\"><li><span><a href=\"#The-&quot;BCG-vaccine-dataset&quot;\" data-toc-modified-id=\"The-&quot;BCG-vaccine-dataset&quot;-2.1\"><span class=\"toc-item-num\">2.1&nbsp;&nbsp;</span>The \"BCG vaccine dataset\"</a></span></li><li><span><a href=\"#Exercise\" data-toc-modified-id=\"Exercise-2.2\"><span class=\"toc-item-num\">2.2&nbsp;&nbsp;</span>Exercise</a></span></li><li><span><a href=\"#Exercise\" data-toc-modified-id=\"Exercise-2.3\"><span class=\"toc-item-num\">2.3&nbsp;&nbsp;</span>Exercise</a></span></li><li><span><a href=\"#Exercise\" data-toc-modified-id=\"Exercise-2.4\"><span class=\"toc-item-num\">2.4&nbsp;&nbsp;</span>Exercise</a></span></li><li><span><a href=\"#Exercise\" data-toc-modified-id=\"Exercise-2.5\"><span class=\"toc-item-num\">2.5&nbsp;&nbsp;</span>Exercise</a></span></li><li><span><a href=\"#Exercise\" data-toc-modified-id=\"Exercise-2.6\"><span class=\"toc-item-num\">2.6&nbsp;&nbsp;</span>Exercise</a></span></li><li><span><a href=\"#Exercise\" data-toc-modified-id=\"Exercise-2.7\"><span class=\"toc-item-num\">2.7&nbsp;&nbsp;</span>Exercise</a></span></li></ul></li><li><span><a href=\"#Exercise\" data-toc-modified-id=\"Exercise-3\"><span class=\"toc-item-num\">3&nbsp;&nbsp;</span>Exercise</a></span><ul class=\"toc-item\"><li><span><a href=\"#Exercise\" data-toc-modified-id=\"Exercise-3.1\"><span class=\"toc-item-num\">3.1&nbsp;&nbsp;</span>Exercise</a></span></li><li><span><a href=\"#Exercise\" data-toc-modified-id=\"Exercise-3.2\"><span class=\"toc-item-num\">3.2&nbsp;&nbsp;</span>Exercise</a></span></li></ul></li></ul></div>"
   ]
  },
  {
   "cell_type": "markdown",
   "metadata": {},
   "source": [
    "## Preliminaries"
   ]
  },
  {
   "cell_type": "markdown",
   "metadata": {},
   "source": [
    "Please do not touch anything in this section, otherwise this notebook might not work properly. You have been warned! Also, if you have no clue what you are staring at, please consult our [Preface chapter](1-1_preface.ipynb)."
   ]
  },
  {
   "cell_type": "code",
   "execution_count": 5,
   "metadata": {},
   "outputs": [
    {
     "name": "stderr",
     "output_type": "stream",
     "text": [
      "Loading required package: Matrix\n",
      "Loading 'metafor' package (version 2.0-0). For an overview \n",
      "and introduction to the package please type: help(metafor).\n"
     ]
    }
   ],
   "source": [
    "source(\"run_me_first.R\")"
   ]
  },
  {
   "cell_type": "markdown",
   "metadata": {},
   "source": [
    "## Exercise"
   ]
  },
  {
   "cell_type": "markdown",
   "metadata": {},
   "source": [
    "### The \"BCG vaccine dataset\""
   ]
  },
  {
   "cell_type": "markdown",
   "metadata": {},
   "source": [
    "Throughout many exercises, we will be using the \"BCG vaccine dataset\", which can be found in the package `metafor`. All details about his dataset can be found at [http://www.metafor-project.org/doku.php/analyses:berkey1995](http://www.metafor-project.org/doku.php/analyses:berkey1995). In brief, this dataset contains results from 13 studies examining the effectiveness of the Bacillus Calmette-Guerin (BCG) vaccine against tuberculosis."
   ]
  },
  {
   "cell_type": "markdown",
   "metadata": {},
   "source": [
    "More details can be found by executing the help command in R (at the bottom of this window should open a new window that contains the dataset description):"
   ]
  },
  {
   "cell_type": "markdown",
   "metadata": {},
   "source": [
    "    ?dat.bcg "
   ]
  },
  {
   "cell_type": "markdown",
   "metadata": {},
   "source": [
    "An excerpt of `?dat.cgb` can also found in the next paragraph. The data frame contains the following columns:"
   ]
  },
  {
   "cell_type": "raw",
   "metadata": {},
   "source": [
    "trial\tnumeric\ttrial number\n",
    "author\tcharacter\tauthor(s)\n",
    "year\tnumeric\tpublication year\n",
    "tpos\tnumeric\tnumber of TB positive cases in the treated (vaccinated) group\n",
    "tneg\tnumeric\tnumber of TB negative cases in the treated (vaccinated) group\n",
    "cpos\tnumeric\tnumber of TB positive cases in the control (non-vaccinated) group\n",
    "cneg\tnumeric\tnumber of TB negative cases in the control (non-vaccinated) group\n",
    "ablat\tnumeric\tabsolute latitude of the study location (in degrees)\n",
    "alloc\tcharacter\tmethod of treatment allocation (random, alternate, or systematic assignment)"
   ]
  },
  {
   "cell_type": "markdown",
   "metadata": {},
   "source": [
    "The 13 studies provide data in terms of 2x2 tables in the form:\n",
    "\n",
    "|                 .| TB positive | TB negative |\n",
    "|------------------|-------------|-------------|\n",
    "| vaccinated group | tpos        | tneg        |\n",
    "| control group\t   | cpos\t     | cneg        |\n",
    "\n",
    "The goal of the meta-analysis was to examine the overall effectiveness of the BCG vaccine for preventing tuberculosis and to examine moderators that may potentially influence the size of the effect.\n",
    "\n",
    "The dataset has been used in several publications to illustrate meta-analytic methods (see ‘References’)."
   ]
  },
  {
   "cell_type": "markdown",
   "metadata": {},
   "source": [
    "The `escalc()` function is used to calculate the effect size and corresponding variance (the log risk ratios). We take as effect size log risk ratios: `measure = \"RR\"` and use the default arguments for 2x2 tables. In order to specify the cells of a 2x2 table, `escalc` assumes the following order of table cells (`ai` to `di` are the `escalc` arguments the need to be specified, see below):\n",
    "\n",
    "|                 .| TB positive | TB negative |\n",
    "|------------------|-------------|-------------|\n",
    "| vaccinated group | ai          | bi          |\n",
    "| control group\t   | ci  \t     | di          |\n"
   ]
  },
  {
   "cell_type": "markdown",
   "metadata": {},
   "source": [
    "### Exercise"
   ]
  },
  {
   "cell_type": "markdown",
   "metadata": {},
   "source": [
    "Make sure that you first load the `metafor` package. Calculate the appropriate effect size for the BCG dataset using the `escalc()` function. You can add the new effect size to the existing data frame `dat.bcg` by using the following expression `dat.bcg <-escalc(...)`. What exactly does `escalc()` return?"
   ]
  },
  {
   "cell_type": "code",
   "execution_count": 6,
   "metadata": {},
   "outputs": [],
   "source": [
    "## Please insert your solution here. Of course, feel free to add new code cells."
   ]
  },
  {
   "cell_type": "markdown",
   "metadata": {},
   "source": [
    "### Exercise"
   ]
  },
  {
   "cell_type": "markdown",
   "metadata": {},
   "source": [
    "Inspect the BCG data by typing in the name `dat.bcg`. Are there any new columns (hopyefully, there are two of them...)? "
   ]
  },
  {
   "cell_type": "code",
   "execution_count": 7,
   "metadata": {},
   "outputs": [],
   "source": [
    "## Please insert your solution here. Of course, feel free to add new code cells."
   ]
  },
  {
   "cell_type": "markdown",
   "metadata": {},
   "source": [
    "In most cases, it is better to only show the first few rows of a dataset. This can be accomplished using the `head()` function:"
   ]
  },
  {
   "cell_type": "code",
   "execution_count": 8,
   "metadata": {},
   "outputs": [
    {
     "data": {
      "text/html": [
       "<table>\n",
       "<thead><tr><th scope=col>trial</th><th scope=col>author</th><th scope=col>year</th><th scope=col>tpos</th><th scope=col>tneg</th><th scope=col>cpos</th><th scope=col>cneg</th><th scope=col>ablat</th><th scope=col>alloc</th><th scope=col>yi</th><th scope=col>vi</th></tr></thead>\n",
       "<tbody>\n",
       "\t<tr><td>1                   </td><td>Aronson             </td><td>1948                </td><td>  4                 </td><td>  119               </td><td> 11                 </td><td>  128               </td><td>44                  </td><td>random              </td><td>-0.8893113          </td><td>0.325584765         </td></tr>\n",
       "\t<tr><td>2                                                               </td><td><span style=white-space:pre-wrap>Ferguson &amp; Simes    </span></td><td>1949                                                            </td><td><span style=white-space:pre-wrap>  6</span>                     </td><td><span style=white-space:pre-wrap>  300</span>                   </td><td> 29                                                             </td><td><span style=white-space:pre-wrap>  274</span>                   </td><td>55                                                              </td><td><span style=white-space:pre-wrap>random   </span>               </td><td>-1.5853887                                                      </td><td>0.194581121                                                     </td></tr>\n",
       "\t<tr><td>3                   </td><td>Rosenthal et al     </td><td>1960                </td><td>  3                 </td><td>  228               </td><td> 11                 </td><td>  209               </td><td>42                  </td><td>random              </td><td>-1.3480731          </td><td>0.415367965         </td></tr>\n",
       "\t<tr><td>4                                                               </td><td><span style=white-space:pre-wrap>Hart &amp; Sutherland   </span></td><td>1977                                                            </td><td> 62                                                             </td><td>13536                                                           </td><td>248                                                             </td><td>12619                                                           </td><td>52                                                              </td><td><span style=white-space:pre-wrap>random   </span>               </td><td>-1.4415512                                                      </td><td>0.020010032                                                     </td></tr>\n",
       "\t<tr><td>5                   </td><td>Frimodt-Moller et al</td><td>1973                </td><td> 33                 </td><td> 5036               </td><td> 47                 </td><td> 5761               </td><td>13                  </td><td>alternate           </td><td>-0.2175473          </td><td>0.051210172         </td></tr>\n",
       "\t<tr><td>6                                                               </td><td><span style=white-space:pre-wrap>Stein &amp; Aronson     </span></td><td>1953                                                            </td><td>180                                                             </td><td> 1361                                                           </td><td>372                                                             </td><td> 1079                                                           </td><td>44                                                              </td><td>alternate                                                       </td><td>-0.7861156                                                      </td><td>0.006905618                                                     </td></tr>\n",
       "</tbody>\n",
       "</table>\n"
      ],
      "text/latex": [
       "\\begin{tabular}{r|lllllllllll}\n",
       " trial & author & year & tpos & tneg & cpos & cneg & ablat & alloc & yi & vi\\\\\n",
       "\\hline\n",
       "\t 1                    & Aronson              & 1948                 &   4                  &   119                &  11                  &   128                & 44                   & random               & -0.8893113           & 0.325584765         \\\\\n",
       "\t 2                      & Ferguson \\& Simes     & 1949                   &   6                    &   300                  &  29                    &   274                  & 55                     & random                 & -1.5853887             & 0.194581121           \\\\\n",
       "\t 3                    & Rosenthal et al      & 1960                 &   3                  &   228                &  11                  &   209                & 42                   & random               & -1.3480731           & 0.415367965         \\\\\n",
       "\t 4                      & Hart \\& Sutherland    & 1977                   &  62                    & 13536                  & 248                    & 12619                  & 52                     & random                 & -1.4415512             & 0.020010032           \\\\\n",
       "\t 5                    & Frimodt-Moller et al & 1973                 &  33                  &  5036                &  47                  &  5761                & 13                   & alternate            & -0.2175473           & 0.051210172         \\\\\n",
       "\t 6                      & Stein \\& Aronson      & 1953                   & 180                    &  1361                  & 372                    &  1079                  & 44                     & alternate              & -0.7861156             & 0.006905618           \\\\\n",
       "\\end{tabular}\n"
      ],
      "text/markdown": [
       "\n",
       "trial | author | year | tpos | tneg | cpos | cneg | ablat | alloc | yi | vi | \n",
       "|---|---|---|---|---|---|\n",
       "| 1                    | Aronson              | 1948                 |   4                  |   119                |  11                  |   128                | 44                   | random               | -0.8893113           | 0.325584765          | \n",
       "| 2                    | Ferguson & Simes     | 1949                 |   6                  |   300                |  29                  |   274                | 55                   | random               | -1.5853887           | 0.194581121          | \n",
       "| 3                    | Rosenthal et al      | 1960                 |   3                  |   228                |  11                  |   209                | 42                   | random               | -1.3480731           | 0.415367965          | \n",
       "| 4                    | Hart & Sutherland    | 1977                 |  62                  | 13536                | 248                  | 12619                | 52                   | random               | -1.4415512           | 0.020010032          | \n",
       "| 5                    | Frimodt-Moller et al | 1973                 |  33                  |  5036                |  47                  |  5761                | 13                   | alternate            | -0.2175473           | 0.051210172          | \n",
       "| 6                    | Stein & Aronson      | 1953                 | 180                  |  1361                | 372                  |  1079                | 44                   | alternate            | -0.7861156           | 0.006905618          | \n",
       "\n",
       "\n"
      ],
      "text/plain": [
       "  trial author               year tpos tneg  cpos cneg  ablat alloc    \n",
       "1 1     Aronson              1948   4    119  11    128 44    random   \n",
       "2 2     Ferguson & Simes     1949   6    300  29    274 55    random   \n",
       "3 3     Rosenthal et al      1960   3    228  11    209 42    random   \n",
       "4 4     Hart & Sutherland    1977  62  13536 248  12619 52    random   \n",
       "5 5     Frimodt-Moller et al 1973  33   5036  47   5761 13    alternate\n",
       "6 6     Stein & Aronson      1953 180   1361 372   1079 44    alternate\n",
       "  yi         vi         \n",
       "1 -0.8893113 0.325584765\n",
       "2 -1.5853887 0.194581121\n",
       "3 -1.3480731 0.415367965\n",
       "4 -1.4415512 0.020010032\n",
       "5 -0.2175473 0.051210172\n",
       "6 -0.7861156 0.006905618"
      ]
     },
     "metadata": {},
     "output_type": "display_data"
    }
   ],
   "source": [
    "head(dat.bcg)"
   ]
  },
  {
   "cell_type": "markdown",
   "metadata": {},
   "source": [
    "### Exercise"
   ]
  },
  {
   "cell_type": "markdown",
   "metadata": {},
   "source": [
    "Let's hope there are two new columns named `yi` and `vi`. What is `yi`? How can we interpret `yi`? What effect size metric is it in? What is `vi`? "
   ]
  },
  {
   "cell_type": "code",
   "execution_count": 9,
   "metadata": {},
   "outputs": [],
   "source": [
    "## Please insert your solution here. Of course, feel free to add new code cells."
   ]
  },
  {
   "cell_type": "markdown",
   "metadata": {},
   "source": [
    "### Exercise"
   ]
  },
  {
   "cell_type": "markdown",
   "metadata": {},
   "source": [
    "You can retransform the log(RR) to RR by exponentiating (`exp()` function in R) the `yi` column. How can you do that?"
   ]
  },
  {
   "cell_type": "code",
   "execution_count": 10,
   "metadata": {},
   "outputs": [],
   "source": [
    "## Please insert your solution here. Of course, feel free to add new code cells."
   ]
  },
  {
   "cell_type": "markdown",
   "metadata": {},
   "source": [
    "### Exercise"
   ]
  },
  {
   "cell_type": "markdown",
   "metadata": {},
   "source": [
    "Next, instead of calculating the relative risks, we want you to calculate the odds ratios. How can you do that? And, again, we want you to interpret `yi`. What effect size metric is it in? What is `vi`? "
   ]
  },
  {
   "cell_type": "code",
   "execution_count": 11,
   "metadata": {},
   "outputs": [],
   "source": [
    "## Please insert your solution here. Of course, feel free to add new code cells."
   ]
  },
  {
   "cell_type": "markdown",
   "metadata": {},
   "source": [
    "### Exercise"
   ]
  },
  {
   "cell_type": "markdown",
   "metadata": {},
   "source": [
    "You can retransform the log(OR) to OR by exponentiating (`exp()` function in R) the `yi` column. How can you do that?"
   ]
  },
  {
   "cell_type": "code",
   "execution_count": 12,
   "metadata": {},
   "outputs": [],
   "source": [
    "## Please insert your solution here. Of course, feel free to add new code cells."
   ]
  },
  {
   "cell_type": "markdown",
   "metadata": {},
   "source": [
    "## Exercise"
   ]
  },
  {
   "cell_type": "markdown",
   "metadata": {},
   "source": [
    "This exercise addresses issues with coding and handling of effect sizes. The following excerpt is from an article on “Verbal Ability and Teacher Effectiveness” by Andrew et al. 2005. It is a study that was used in the meta-analysis by Aloe and Becker (2009) on “Teacher Verbal Ability and School Outcomes: Where Is the Evidence?”."
   ]
  },
  {
   "cell_type": "markdown",
   "metadata": {},
   "source": [
    "![f_andrewetal2005](figure/f_andrewetal2005.png)"
   ]
  },
  {
   "cell_type": "markdown",
   "metadata": {},
   "source": [
    "### Exercise"
   ]
  },
  {
   "cell_type": "markdown",
   "metadata": {},
   "source": [
    "Which of these three effect sizes (r) do you think is most appropriate?"
   ]
  },
  {
   "cell_type": "code",
   "execution_count": 13,
   "metadata": {},
   "outputs": [],
   "source": [
    "## Please insert your solution here. Of course, feel free to add new code cells."
   ]
  },
  {
   "cell_type": "markdown",
   "metadata": {},
   "source": [
    "### Exercise"
   ]
  },
  {
   "cell_type": "markdown",
   "metadata": {},
   "source": [
    "For a univariate meta-analysis we need effect sizes and their variances (i.e., the squared standard error). Since this effect size is a correlation coefficient, we first need to perform the Fisher’s z transformation. Then, calculate the variance and the standard error for the transformed correlation coefficient."
   ]
  },
  {
   "cell_type": "code",
   "execution_count": 14,
   "metadata": {},
   "outputs": [],
   "source": [
    "## Please insert your solution here. Of course, feel free to add new code cells."
   ]
  },
  {
   "cell_type": "code",
   "execution_count": 15,
   "metadata": {},
   "outputs": [],
   "source": [
    "## Please insert your solution here. Of course, feel free to add new code cells."
   ]
  },
  {
   "cell_type": "code",
   "execution_count": 16,
   "metadata": {},
   "outputs": [],
   "source": [
    "## Please insert your solution here. Of course, feel free to add new code cells."
   ]
  },
  {
   "cell_type": "code",
   "execution_count": 19,
   "metadata": {},
   "outputs": [],
   "source": [
    "## Please insert your solution here. Of course, feel free to add new code cells."
   ]
  },
  {
   "cell_type": "code",
   "execution_count": 18,
   "metadata": {},
   "outputs": [],
   "source": [
    "## Please insert your solution here. Of course, feel free to add new code cells."
   ]
  }
 ],
 "metadata": {
  "kernelspec": {
   "display_name": "R",
   "language": "R",
   "name": "ir"
  },
  "language_info": {
   "codemirror_mode": "r",
   "file_extension": ".r",
   "mimetype": "text/x-r-source",
   "name": "R",
   "pygments_lexer": "r",
   "version": "3.6.1"
  },
  "toc": {
   "base_numbering": 1,
   "nav_menu": {},
   "number_sections": true,
   "sideBar": true,
   "skip_h1_title": false,
   "title_cell": "Table of Contents",
   "title_sidebar": "Contents",
   "toc_cell": true,
   "toc_position": {},
   "toc_section_display": true,
   "toc_window_display": true
  }
 },
 "nbformat": 4,
 "nbformat_minor": 2
}
