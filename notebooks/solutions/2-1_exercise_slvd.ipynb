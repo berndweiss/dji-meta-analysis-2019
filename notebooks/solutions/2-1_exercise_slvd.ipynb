{
 "cells": [
  {
   "cell_type": "markdown",
   "metadata": {},
   "source": [
    "<h1>A two-day workshop at the DJI, Munich 2019:<br> Meta-Analysis in Social Research<span class=\"tocSkip\"></span></h1>"
   ]
  },
  {
   "cell_type": "markdown",
   "metadata": {
    "toc": true
   },
   "source": [
    "<h1>Table of Contents<span class=\"tocSkip\"></span></h1>\n",
    "<div class=\"toc\"><ul class=\"toc-item\"><li><span><a href=\"#Preliminaries\" data-toc-modified-id=\"Preliminaries-1\"><span class=\"toc-item-num\">1&nbsp;&nbsp;</span>Preliminaries</a></span></li><li><span><a href=\"#Exercise\" data-toc-modified-id=\"Exercise-2\"><span class=\"toc-item-num\">2&nbsp;&nbsp;</span>Exercise</a></span><ul class=\"toc-item\"><li><span><a href=\"#The-&quot;BCG-vaccine-dataset&quot;\" data-toc-modified-id=\"The-&quot;BCG-vaccine-dataset&quot;-2.1\"><span class=\"toc-item-num\">2.1&nbsp;&nbsp;</span>The \"BCG vaccine dataset\"</a></span></li><li><span><a href=\"#Exercise\" data-toc-modified-id=\"Exercise-2.2\"><span class=\"toc-item-num\">2.2&nbsp;&nbsp;</span>Exercise</a></span></li><li><span><a href=\"#Exercise\" data-toc-modified-id=\"Exercise-2.3\"><span class=\"toc-item-num\">2.3&nbsp;&nbsp;</span>Exercise</a></span></li><li><span><a href=\"#Exercise\" data-toc-modified-id=\"Exercise-2.4\"><span class=\"toc-item-num\">2.4&nbsp;&nbsp;</span>Exercise</a></span></li><li><span><a href=\"#Exercise\" data-toc-modified-id=\"Exercise-2.5\"><span class=\"toc-item-num\">2.5&nbsp;&nbsp;</span>Exercise</a></span></li><li><span><a href=\"#Exercise\" data-toc-modified-id=\"Exercise-2.6\"><span class=\"toc-item-num\">2.6&nbsp;&nbsp;</span>Exercise</a></span></li><li><span><a href=\"#Exercise\" data-toc-modified-id=\"Exercise-2.7\"><span class=\"toc-item-num\">2.7&nbsp;&nbsp;</span>Exercise</a></span></li></ul></li><li><span><a href=\"#Exercise\" data-toc-modified-id=\"Exercise-3\"><span class=\"toc-item-num\">3&nbsp;&nbsp;</span>Exercise</a></span><ul class=\"toc-item\"><li><span><a href=\"#Exercise\" data-toc-modified-id=\"Exercise-3.1\"><span class=\"toc-item-num\">3.1&nbsp;&nbsp;</span>Exercise</a></span></li><li><span><a href=\"#Exercise\" data-toc-modified-id=\"Exercise-3.2\"><span class=\"toc-item-num\">3.2&nbsp;&nbsp;</span>Exercise</a></span></li></ul></li></ul></div>"
   ]
  },
  {
   "cell_type": "markdown",
   "metadata": {},
   "source": [
    "## Preliminaries"
   ]
  },
  {
   "cell_type": "markdown",
   "metadata": {},
   "source": [
    "Please do not touch anything in this section, otherwise this notebook might not work properly. You have been warned! Also, if you have no clue what you are staring at, please consult our [Preface chapter](1-1_preface.ipynb)."
   ]
  },
  {
   "cell_type": "code",
   "execution_count": 5,
   "metadata": {},
   "outputs": [
    {
     "name": "stderr",
     "output_type": "stream",
     "text": [
      "Loading required package: Matrix\n",
      "Loading 'metafor' package (version 2.0-0). For an overview \n",
      "and introduction to the package please type: help(metafor).\n"
     ]
    }
   ],
   "source": [
    "source(\"run_me_first.R\")"
   ]
  },
  {
   "cell_type": "markdown",
   "metadata": {},
   "source": [
    "## Exercise"
   ]
  },
  {
   "cell_type": "markdown",
   "metadata": {},
   "source": [
    "### The \"BCG vaccine dataset\""
   ]
  },
  {
   "cell_type": "markdown",
   "metadata": {},
   "source": [
    "Throughout many exercises, we will be using the \"BCG vaccine dataset\", which can be found in the package `metafor`. All details about his dataset can be found at [http://www.metafor-project.org/doku.php/analyses:berkey1995](http://www.metafor-project.org/doku.php/analyses:berkey1995). In brief, this dataset contains results from 13 studies examining the effectiveness of the Bacillus Calmette-Guerin (BCG) vaccine against tuberculosis."
   ]
  },
  {
   "cell_type": "markdown",
   "metadata": {},
   "source": [
    "More details can be found by executing the help command in R (at the bottom of this window should open a new window that contains the dataset description):"
   ]
  },
  {
   "cell_type": "markdown",
   "metadata": {},
   "source": [
    "    ?dat.bcg "
   ]
  },
  {
   "cell_type": "markdown",
   "metadata": {},
   "source": [
    "An excerpt of `?dat.cgb` can also found in the next paragraph. The data frame contains the following columns:"
   ]
  },
  {
   "cell_type": "raw",
   "metadata": {},
   "source": [
    "trial\tnumeric\ttrial number\n",
    "author\tcharacter\tauthor(s)\n",
    "year\tnumeric\tpublication year\n",
    "tpos\tnumeric\tnumber of TB positive cases in the treated (vaccinated) group\n",
    "tneg\tnumeric\tnumber of TB negative cases in the treated (vaccinated) group\n",
    "cpos\tnumeric\tnumber of TB positive cases in the control (non-vaccinated) group\n",
    "cneg\tnumeric\tnumber of TB negative cases in the control (non-vaccinated) group\n",
    "ablat\tnumeric\tabsolute latitude of the study location (in degrees)\n",
    "alloc\tcharacter\tmethod of treatment allocation (random, alternate, or systematic assignment)"
   ]
  },
  {
   "cell_type": "markdown",
   "metadata": {},
   "source": [
    "The 13 studies provide data in terms of 2x2 tables in the form:\n",
    "\n",
    "|                 .| TB positive | TB negative |\n",
    "|------------------|-------------|-------------|\n",
    "| vaccinated group | tpos        | tneg        |\n",
    "| control group\t   | cpos\t     | cneg        |\n",
    "\n",
    "The goal of the meta-analysis was to examine the overall effectiveness of the BCG vaccine for preventing tuberculosis and to examine moderators that may potentially influence the size of the effect.\n",
    "\n",
    "The dataset has been used in several publications to illustrate meta-analytic methods (see ‘References’)."
   ]
  },
  {
   "cell_type": "markdown",
   "metadata": {},
   "source": [
    "The `escalc()` function is used to calculate the effect size and corresponding variance (the log risk ratios). We take as effect size log risk ratios: `measure = \"RR\"` and use the default arguments for 2x2 tables. In order to specify the cells of a 2x2 table, `escalc` assumes the following order of table cells (`ai` to `di` are the `escalc` arguments the need to be specified, see below):\n",
    "\n",
    "|                 .| TB positive | TB negative |\n",
    "|------------------|-------------|-------------|\n",
    "| vaccinated group | ai          | bi          |\n",
    "| control group\t   | ci  \t     | di          |\n"
   ]
  },
  {
   "cell_type": "markdown",
   "metadata": {},
   "source": [
    "### Exercise"
   ]
  },
  {
   "cell_type": "markdown",
   "metadata": {},
   "source": [
    "Make sure that you first load the `metafor` package. Calculate the appropriate effect size for the BCG dataset using the `escalc()` function. You can add the new effect size to the existing data frame `dat.bcg` by using the following expression `dat.bcg <-escalc(...)`. What exactly does `escalc()` return?"
   ]
  },
  {
   "cell_type": "code",
   "execution_count": 6,
   "metadata": {},
   "outputs": [],
   "source": [
    "## Solution.\n",
    "library(metafor)\n",
    "dat.bcg <- escalc(measure = \"RR\", ai = tpos, bi = tneg, ci = cpos, di = cneg, data = dat.bcg)\n",
    "## escalc() returns the log(RR)."
   ]
  },
  {
   "cell_type": "markdown",
   "metadata": {},
   "source": [
    "### Exercise"
   ]
  },
  {
   "cell_type": "markdown",
   "metadata": {},
   "source": [
    "Inspect the BCG data by typing in the name `dat.bcg`. Are there any new columns (hopyefully, there are two of them...)? "
   ]
  },
  {
   "cell_type": "code",
   "execution_count": 7,
   "metadata": {},
   "outputs": [
    {
     "data": {
      "text/html": [
       "<table>\n",
       "<thead><tr><th scope=col>trial</th><th scope=col>author</th><th scope=col>year</th><th scope=col>tpos</th><th scope=col>tneg</th><th scope=col>cpos</th><th scope=col>cneg</th><th scope=col>ablat</th><th scope=col>alloc</th><th scope=col>yi</th><th scope=col>vi</th></tr></thead>\n",
       "<tbody>\n",
       "\t<tr><td> 1                  </td><td>Aronson             </td><td>1948                </td><td>  4                 </td><td>  119               </td><td> 11                 </td><td>  128               </td><td>44                  </td><td>random              </td><td>-0.88931133         </td><td>0.325584765         </td></tr>\n",
       "\t<tr><td> 2                                                              </td><td><span style=white-space:pre-wrap>Ferguson &amp; Simes    </span></td><td>1949                                                            </td><td><span style=white-space:pre-wrap>  6</span>                     </td><td><span style=white-space:pre-wrap>  300</span>                   </td><td> 29                                                             </td><td><span style=white-space:pre-wrap>  274</span>                   </td><td>55                                                              </td><td><span style=white-space:pre-wrap>random    </span>              </td><td>-1.58538866                                                     </td><td>0.194581121                                                     </td></tr>\n",
       "\t<tr><td> 3                  </td><td>Rosenthal et al     </td><td>1960                </td><td>  3                 </td><td>  228               </td><td> 11                 </td><td>  209               </td><td>42                  </td><td>random              </td><td>-1.34807315         </td><td>0.415367965         </td></tr>\n",
       "\t<tr><td> 4                                                              </td><td><span style=white-space:pre-wrap>Hart &amp; Sutherland   </span></td><td>1977                                                            </td><td> 62                                                             </td><td>13536                                                           </td><td>248                                                             </td><td>12619                                                           </td><td>52                                                              </td><td><span style=white-space:pre-wrap>random    </span>              </td><td>-1.44155119                                                     </td><td>0.020010032                                                     </td></tr>\n",
       "\t<tr><td> 5                  </td><td>Frimodt-Moller et al</td><td>1973                </td><td> 33                 </td><td> 5036               </td><td> 47                 </td><td> 5761               </td><td>13                  </td><td>alternate           </td><td>-0.21754732         </td><td>0.051210172         </td></tr>\n",
       "\t<tr><td> 6                                                              </td><td><span style=white-space:pre-wrap>Stein &amp; Aronson     </span></td><td>1953                                                            </td><td>180                                                             </td><td> 1361                                                           </td><td>372                                                             </td><td> 1079                                                           </td><td>44                                                              </td><td>alternate                                                       </td><td>-0.78611559                                                     </td><td>0.006905618                                                     </td></tr>\n",
       "\t<tr><td> 7                  </td><td>Vandiviere et al    </td><td>1973                </td><td>  8                 </td><td> 2537               </td><td> 10                 </td><td>  619               </td><td>19                  </td><td>random              </td><td>-1.62089822         </td><td>0.223017248         </td></tr>\n",
       "\t<tr><td> 8                  </td><td>TPT Madras          </td><td>1980                </td><td>505                 </td><td>87886               </td><td>499                 </td><td>87892               </td><td>13                  </td><td>random              </td><td> 0.01195233         </td><td>0.003961579         </td></tr>\n",
       "\t<tr><td> 9                                                              </td><td><span style=white-space:pre-wrap>Coetzee &amp; Berjak    </span></td><td>1968                                                            </td><td> 29                                                             </td><td> 7470                                                           </td><td> 45                                                             </td><td> 7232                                                           </td><td>27                                                              </td><td><span style=white-space:pre-wrap>random    </span>              </td><td>-0.46941765                                                     </td><td>0.056434210                                                     </td></tr>\n",
       "\t<tr><td>10                  </td><td>Rosenthal et al     </td><td>1961                </td><td> 17                 </td><td> 1699               </td><td> 65                 </td><td> 1600               </td><td>42                  </td><td>systematic          </td><td>-1.37134480         </td><td>0.073024794         </td></tr>\n",
       "\t<tr><td>11                  </td><td>Comstock et al      </td><td>1974                </td><td>186                 </td><td>50448               </td><td>141                 </td><td>27197               </td><td>18                  </td><td>systematic          </td><td>-0.33935883         </td><td>0.012412214         </td></tr>\n",
       "\t<tr><td>12                                                              </td><td><span style=white-space:pre-wrap>Comstock &amp; Webster  </span></td><td>1969                                                            </td><td><span style=white-space:pre-wrap>  5</span>                     </td><td> 2493                                                           </td><td><span style=white-space:pre-wrap>  3</span>                     </td><td> 2338                                                           </td><td>33                                                              </td><td>systematic                                                      </td><td> 0.44591340                                                     </td><td>0.532505845                                                     </td></tr>\n",
       "\t<tr><td>13                  </td><td>Comstock et al      </td><td>1976                </td><td> 27                 </td><td>16886               </td><td> 29                 </td><td>17825               </td><td>33                  </td><td>systematic          </td><td>-0.01731395         </td><td>0.071404660         </td></tr>\n",
       "</tbody>\n",
       "</table>\n"
      ],
      "text/latex": [
       "\\begin{tabular}{r|lllllllllll}\n",
       " trial & author & year & tpos & tneg & cpos & cneg & ablat & alloc & yi & vi\\\\\n",
       "\\hline\n",
       "\t  1                   & Aronson              & 1948                 &   4                  &   119                &  11                  &   128                & 44                   & random               & -0.88931133          & 0.325584765         \\\\\n",
       "\t  2                     & Ferguson \\& Simes     & 1949                   &   6                    &   300                  &  29                    &   274                  & 55                     & random                 & -1.58538866            & 0.194581121           \\\\\n",
       "\t  3                   & Rosenthal et al      & 1960                 &   3                  &   228                &  11                  &   209                & 42                   & random               & -1.34807315          & 0.415367965         \\\\\n",
       "\t  4                     & Hart \\& Sutherland    & 1977                   &  62                    & 13536                  & 248                    & 12619                  & 52                     & random                 & -1.44155119            & 0.020010032           \\\\\n",
       "\t  5                   & Frimodt-Moller et al & 1973                 &  33                  &  5036                &  47                  &  5761                & 13                   & alternate            & -0.21754732          & 0.051210172         \\\\\n",
       "\t  6                     & Stein \\& Aronson      & 1953                   & 180                    &  1361                  & 372                    &  1079                  & 44                     & alternate              & -0.78611559            & 0.006905618           \\\\\n",
       "\t  7                   & Vandiviere et al     & 1973                 &   8                  &  2537                &  10                  &   619                & 19                   & random               & -1.62089822          & 0.223017248         \\\\\n",
       "\t  8                   & TPT Madras           & 1980                 & 505                  & 87886                & 499                  & 87892                & 13                   & random               &  0.01195233          & 0.003961579         \\\\\n",
       "\t  9                     & Coetzee \\& Berjak     & 1968                   &  29                    &  7470                  &  45                    &  7232                  & 27                     & random                 & -0.46941765            & 0.056434210           \\\\\n",
       "\t 10                   & Rosenthal et al      & 1961                 &  17                  &  1699                &  65                  &  1600                & 42                   & systematic           & -1.37134480          & 0.073024794         \\\\\n",
       "\t 11                   & Comstock et al       & 1974                 & 186                  & 50448                & 141                  & 27197                & 18                   & systematic           & -0.33935883          & 0.012412214         \\\\\n",
       "\t 12                     & Comstock \\& Webster   & 1969                   &   5                    &  2493                  &   3                    &  2338                  & 33                     & systematic             &  0.44591340            & 0.532505845           \\\\\n",
       "\t 13                   & Comstock et al       & 1976                 &  27                  & 16886                &  29                  & 17825                & 33                   & systematic           & -0.01731395          & 0.071404660         \\\\\n",
       "\\end{tabular}\n"
      ],
      "text/markdown": [
       "\n",
       "trial | author | year | tpos | tneg | cpos | cneg | ablat | alloc | yi | vi | \n",
       "|---|---|---|---|---|---|---|---|---|---|---|---|---|\n",
       "|  1                   | Aronson              | 1948                 |   4                  |   119                |  11                  |   128                | 44                   | random               | -0.88931133          | 0.325584765          | \n",
       "|  2                   | Ferguson & Simes     | 1949                 |   6                  |   300                |  29                  |   274                | 55                   | random               | -1.58538866          | 0.194581121          | \n",
       "|  3                   | Rosenthal et al      | 1960                 |   3                  |   228                |  11                  |   209                | 42                   | random               | -1.34807315          | 0.415367965          | \n",
       "|  4                   | Hart & Sutherland    | 1977                 |  62                  | 13536                | 248                  | 12619                | 52                   | random               | -1.44155119          | 0.020010032          | \n",
       "|  5                   | Frimodt-Moller et al | 1973                 |  33                  |  5036                |  47                  |  5761                | 13                   | alternate            | -0.21754732          | 0.051210172          | \n",
       "|  6                   | Stein & Aronson      | 1953                 | 180                  |  1361                | 372                  |  1079                | 44                   | alternate            | -0.78611559          | 0.006905618          | \n",
       "|  7                   | Vandiviere et al     | 1973                 |   8                  |  2537                |  10                  |   619                | 19                   | random               | -1.62089822          | 0.223017248          | \n",
       "|  8                   | TPT Madras           | 1980                 | 505                  | 87886                | 499                  | 87892                | 13                   | random               |  0.01195233          | 0.003961579          | \n",
       "|  9                   | Coetzee & Berjak     | 1968                 |  29                  |  7470                |  45                  |  7232                | 27                   | random               | -0.46941765          | 0.056434210          | \n",
       "| 10                   | Rosenthal et al      | 1961                 |  17                  |  1699                |  65                  |  1600                | 42                   | systematic           | -1.37134480          | 0.073024794          | \n",
       "| 11                   | Comstock et al       | 1974                 | 186                  | 50448                | 141                  | 27197                | 18                   | systematic           | -0.33935883          | 0.012412214          | \n",
       "| 12                   | Comstock & Webster   | 1969                 |   5                  |  2493                |   3                  |  2338                | 33                   | systematic           |  0.44591340          | 0.532505845          | \n",
       "| 13                   | Comstock et al       | 1976                 |  27                  | 16886                |  29                  | 17825                | 33                   | systematic           | -0.01731395          | 0.071404660          | \n",
       "\n",
       "\n"
      ],
      "text/plain": [
       "   trial author               year tpos tneg  cpos cneg  ablat alloc     \n",
       "1   1    Aronson              1948   4    119  11    128 44    random    \n",
       "2   2    Ferguson & Simes     1949   6    300  29    274 55    random    \n",
       "3   3    Rosenthal et al      1960   3    228  11    209 42    random    \n",
       "4   4    Hart & Sutherland    1977  62  13536 248  12619 52    random    \n",
       "5   5    Frimodt-Moller et al 1973  33   5036  47   5761 13    alternate \n",
       "6   6    Stein & Aronson      1953 180   1361 372   1079 44    alternate \n",
       "7   7    Vandiviere et al     1973   8   2537  10    619 19    random    \n",
       "8   8    TPT Madras           1980 505  87886 499  87892 13    random    \n",
       "9   9    Coetzee & Berjak     1968  29   7470  45   7232 27    random    \n",
       "10 10    Rosenthal et al      1961  17   1699  65   1600 42    systematic\n",
       "11 11    Comstock et al       1974 186  50448 141  27197 18    systematic\n",
       "12 12    Comstock & Webster   1969   5   2493   3   2338 33    systematic\n",
       "13 13    Comstock et al       1976  27  16886  29  17825 33    systematic\n",
       "   yi          vi         \n",
       "1  -0.88931133 0.325584765\n",
       "2  -1.58538866 0.194581121\n",
       "3  -1.34807315 0.415367965\n",
       "4  -1.44155119 0.020010032\n",
       "5  -0.21754732 0.051210172\n",
       "6  -0.78611559 0.006905618\n",
       "7  -1.62089822 0.223017248\n",
       "8   0.01195233 0.003961579\n",
       "9  -0.46941765 0.056434210\n",
       "10 -1.37134480 0.073024794\n",
       "11 -0.33935883 0.012412214\n",
       "12  0.44591340 0.532505845\n",
       "13 -0.01731395 0.071404660"
      ]
     },
     "metadata": {},
     "output_type": "display_data"
    }
   ],
   "source": [
    "## Solution.\n",
    "dat.bcg"
   ]
  },
  {
   "cell_type": "markdown",
   "metadata": {},
   "source": [
    "In most cases, it is better to only show the first few rows of a dataset. This can be accomplished using the `head()` function:"
   ]
  },
  {
   "cell_type": "code",
   "execution_count": 8,
   "metadata": {},
   "outputs": [
    {
     "data": {
      "text/html": [
       "<table>\n",
       "<thead><tr><th scope=col>trial</th><th scope=col>author</th><th scope=col>year</th><th scope=col>tpos</th><th scope=col>tneg</th><th scope=col>cpos</th><th scope=col>cneg</th><th scope=col>ablat</th><th scope=col>alloc</th><th scope=col>yi</th><th scope=col>vi</th></tr></thead>\n",
       "<tbody>\n",
       "\t<tr><td>1                   </td><td>Aronson             </td><td>1948                </td><td>  4                 </td><td>  119               </td><td> 11                 </td><td>  128               </td><td>44                  </td><td>random              </td><td>-0.8893113          </td><td>0.325584765         </td></tr>\n",
       "\t<tr><td>2                                                               </td><td><span style=white-space:pre-wrap>Ferguson &amp; Simes    </span></td><td>1949                                                            </td><td><span style=white-space:pre-wrap>  6</span>                     </td><td><span style=white-space:pre-wrap>  300</span>                   </td><td> 29                                                             </td><td><span style=white-space:pre-wrap>  274</span>                   </td><td>55                                                              </td><td><span style=white-space:pre-wrap>random   </span>               </td><td>-1.5853887                                                      </td><td>0.194581121                                                     </td></tr>\n",
       "\t<tr><td>3                   </td><td>Rosenthal et al     </td><td>1960                </td><td>  3                 </td><td>  228               </td><td> 11                 </td><td>  209               </td><td>42                  </td><td>random              </td><td>-1.3480731          </td><td>0.415367965         </td></tr>\n",
       "\t<tr><td>4                                                               </td><td><span style=white-space:pre-wrap>Hart &amp; Sutherland   </span></td><td>1977                                                            </td><td> 62                                                             </td><td>13536                                                           </td><td>248                                                             </td><td>12619                                                           </td><td>52                                                              </td><td><span style=white-space:pre-wrap>random   </span>               </td><td>-1.4415512                                                      </td><td>0.020010032                                                     </td></tr>\n",
       "\t<tr><td>5                   </td><td>Frimodt-Moller et al</td><td>1973                </td><td> 33                 </td><td> 5036               </td><td> 47                 </td><td> 5761               </td><td>13                  </td><td>alternate           </td><td>-0.2175473          </td><td>0.051210172         </td></tr>\n",
       "\t<tr><td>6                                                               </td><td><span style=white-space:pre-wrap>Stein &amp; Aronson     </span></td><td>1953                                                            </td><td>180                                                             </td><td> 1361                                                           </td><td>372                                                             </td><td> 1079                                                           </td><td>44                                                              </td><td>alternate                                                       </td><td>-0.7861156                                                      </td><td>0.006905618                                                     </td></tr>\n",
       "</tbody>\n",
       "</table>\n"
      ],
      "text/latex": [
       "\\begin{tabular}{r|lllllllllll}\n",
       " trial & author & year & tpos & tneg & cpos & cneg & ablat & alloc & yi & vi\\\\\n",
       "\\hline\n",
       "\t 1                    & Aronson              & 1948                 &   4                  &   119                &  11                  &   128                & 44                   & random               & -0.8893113           & 0.325584765         \\\\\n",
       "\t 2                      & Ferguson \\& Simes     & 1949                   &   6                    &   300                  &  29                    &   274                  & 55                     & random                 & -1.5853887             & 0.194581121           \\\\\n",
       "\t 3                    & Rosenthal et al      & 1960                 &   3                  &   228                &  11                  &   209                & 42                   & random               & -1.3480731           & 0.415367965         \\\\\n",
       "\t 4                      & Hart \\& Sutherland    & 1977                   &  62                    & 13536                  & 248                    & 12619                  & 52                     & random                 & -1.4415512             & 0.020010032           \\\\\n",
       "\t 5                    & Frimodt-Moller et al & 1973                 &  33                  &  5036                &  47                  &  5761                & 13                   & alternate            & -0.2175473           & 0.051210172         \\\\\n",
       "\t 6                      & Stein \\& Aronson      & 1953                   & 180                    &  1361                  & 372                    &  1079                  & 44                     & alternate              & -0.7861156             & 0.006905618           \\\\\n",
       "\\end{tabular}\n"
      ],
      "text/markdown": [
       "\n",
       "trial | author | year | tpos | tneg | cpos | cneg | ablat | alloc | yi | vi | \n",
       "|---|---|---|---|---|---|\n",
       "| 1                    | Aronson              | 1948                 |   4                  |   119                |  11                  |   128                | 44                   | random               | -0.8893113           | 0.325584765          | \n",
       "| 2                    | Ferguson & Simes     | 1949                 |   6                  |   300                |  29                  |   274                | 55                   | random               | -1.5853887           | 0.194581121          | \n",
       "| 3                    | Rosenthal et al      | 1960                 |   3                  |   228                |  11                  |   209                | 42                   | random               | -1.3480731           | 0.415367965          | \n",
       "| 4                    | Hart & Sutherland    | 1977                 |  62                  | 13536                | 248                  | 12619                | 52                   | random               | -1.4415512           | 0.020010032          | \n",
       "| 5                    | Frimodt-Moller et al | 1973                 |  33                  |  5036                |  47                  |  5761                | 13                   | alternate            | -0.2175473           | 0.051210172          | \n",
       "| 6                    | Stein & Aronson      | 1953                 | 180                  |  1361                | 372                  |  1079                | 44                   | alternate            | -0.7861156           | 0.006905618          | \n",
       "\n",
       "\n"
      ],
      "text/plain": [
       "  trial author               year tpos tneg  cpos cneg  ablat alloc    \n",
       "1 1     Aronson              1948   4    119  11    128 44    random   \n",
       "2 2     Ferguson & Simes     1949   6    300  29    274 55    random   \n",
       "3 3     Rosenthal et al      1960   3    228  11    209 42    random   \n",
       "4 4     Hart & Sutherland    1977  62  13536 248  12619 52    random   \n",
       "5 5     Frimodt-Moller et al 1973  33   5036  47   5761 13    alternate\n",
       "6 6     Stein & Aronson      1953 180   1361 372   1079 44    alternate\n",
       "  yi         vi         \n",
       "1 -0.8893113 0.325584765\n",
       "2 -1.5853887 0.194581121\n",
       "3 -1.3480731 0.415367965\n",
       "4 -1.4415512 0.020010032\n",
       "5 -0.2175473 0.051210172\n",
       "6 -0.7861156 0.006905618"
      ]
     },
     "metadata": {},
     "output_type": "display_data"
    }
   ],
   "source": [
    "head(dat.bcg)"
   ]
  },
  {
   "cell_type": "markdown",
   "metadata": {},
   "source": [
    "### Exercise"
   ]
  },
  {
   "cell_type": "markdown",
   "metadata": {},
   "source": [
    "Let's hope there are two new columns named `yi` and `vi`. What is `yi`? How can we interpret `yi`? What effect size metric is it in? What is `vi`? "
   ]
  },
  {
   "cell_type": "code",
   "execution_count": 9,
   "metadata": {},
   "outputs": [],
   "source": [
    "## Solution.\n",
    "## yi is the newly calculated effect size, it is a log(relative risk). In terms of interpretation:\n",
    "## - a negative value means that the vaccine indeed works.\n",
    "## - yi = 0 means there is no effect at all, yi > 0 means the vaccine is harmful.\n",
    "## vi is the corresponding variance."
   ]
  },
  {
   "cell_type": "markdown",
   "metadata": {},
   "source": [
    "### Exercise"
   ]
  },
  {
   "cell_type": "markdown",
   "metadata": {},
   "source": [
    "You can retransform the log(RR) to RR by exponentiating (`exp()` function in R) the `yi` column. How can you do that?"
   ]
  },
  {
   "cell_type": "code",
   "execution_count": 10,
   "metadata": {},
   "outputs": [
    {
     "data": {
      "text/html": [
       "<ol class=list-inline>\n",
       "\t<li>0.410938654841094</li>\n",
       "\t<li>0.204868154158215</li>\n",
       "\t<li>0.25974025974026</li>\n",
       "\t<li>0.236560523606413</li>\n",
       "\t<li>0.804489533795327</li>\n",
       "\t<li>0.455611144836826</li>\n",
       "\t<li>0.197721021611002</li>\n",
       "\t<li>1.01202404809619</li>\n",
       "\t<li>0.625366345142315</li>\n",
       "\t<li>0.253765465303927</li>\n",
       "\t<li>0.712226836059195</li>\n",
       "\t<li>1.56191619962637</li>\n",
       "\t<li>0.982835076874145</li>\n",
       "</ol>\n"
      ],
      "text/latex": [
       "\\begin{enumerate*}\n",
       "\\item 0.410938654841094\n",
       "\\item 0.204868154158215\n",
       "\\item 0.25974025974026\n",
       "\\item 0.236560523606413\n",
       "\\item 0.804489533795327\n",
       "\\item 0.455611144836826\n",
       "\\item 0.197721021611002\n",
       "\\item 1.01202404809619\n",
       "\\item 0.625366345142315\n",
       "\\item 0.253765465303927\n",
       "\\item 0.712226836059195\n",
       "\\item 1.56191619962637\n",
       "\\item 0.982835076874145\n",
       "\\end{enumerate*}\n"
      ],
      "text/markdown": [
       "1. 0.410938654841094\n",
       "2. 0.204868154158215\n",
       "3. 0.25974025974026\n",
       "4. 0.236560523606413\n",
       "5. 0.804489533795327\n",
       "6. 0.455611144836826\n",
       "7. 0.197721021611002\n",
       "8. 1.01202404809619\n",
       "9. 0.625366345142315\n",
       "10. 0.253765465303927\n",
       "11. 0.712226836059195\n",
       "12. 1.56191619962637\n",
       "13. 0.982835076874145\n",
       "\n",
       "\n"
      ],
      "text/plain": [
       " [1] 0.4109387 0.2048682 0.2597403 0.2365605 0.8044895 0.4556111 0.1977210\n",
       " [8] 1.0120240 0.6253663 0.2537655 0.7122268 1.5619162 0.9828351\n",
       "attr(,\"measure\")\n",
       "[1] \"RR\"\n",
       "attr(,\"ni\")\n",
       " [1]    262    609    451  26465  10877   2992   3174 176782  14776   3381\n",
       "[11]  77972   4839  34767"
      ]
     },
     "metadata": {},
     "output_type": "display_data"
    }
   ],
   "source": [
    "## Solution.\n",
    "exp(dat.bcg$yi)"
   ]
  },
  {
   "cell_type": "markdown",
   "metadata": {},
   "source": [
    "### Exercise"
   ]
  },
  {
   "cell_type": "markdown",
   "metadata": {},
   "source": [
    "Next, instead of calculating the relative risks, we want you to calculate the odds ratios. How can you do that? And, again, we want you to interpret `yi`. What effect size metric is it in? What is `vi`? "
   ]
  },
  {
   "cell_type": "code",
   "execution_count": 11,
   "metadata": {},
   "outputs": [
    {
     "data": {
      "text/html": [
       "<table>\n",
       "<thead><tr><th scope=col>trial</th><th scope=col>author</th><th scope=col>year</th><th scope=col>tpos</th><th scope=col>tneg</th><th scope=col>cpos</th><th scope=col>cneg</th><th scope=col>ablat</th><th scope=col>alloc</th><th scope=col>yi</th><th scope=col>vi</th></tr></thead>\n",
       "<tbody>\n",
       "\t<tr><td> 1                  </td><td>Aronson             </td><td>1948                </td><td>  4                 </td><td>  119               </td><td> 11                 </td><td>  128               </td><td>44                  </td><td>random              </td><td>-0.93869414         </td><td>0.357124952         </td></tr>\n",
       "\t<tr><td> 2                                                              </td><td><span style=white-space:pre-wrap>Ferguson &amp; Simes    </span></td><td>1949                                                            </td><td><span style=white-space:pre-wrap>  6</span>                     </td><td><span style=white-space:pre-wrap>  300</span>                   </td><td> 29                                                             </td><td><span style=white-space:pre-wrap>  274</span>                   </td><td>55                                                              </td><td><span style=white-space:pre-wrap>random    </span>              </td><td>-1.66619073                                                     </td><td>0.208132394                                                     </td></tr>\n",
       "\t<tr><td> 3                  </td><td>Rosenthal et al     </td><td>1960                </td><td>  3                 </td><td>  228               </td><td> 11                 </td><td>  209               </td><td>42                  </td><td>random              </td><td>-1.38629436         </td><td>0.433413078         </td></tr>\n",
       "\t<tr><td> 4                                                              </td><td><span style=white-space:pre-wrap>Hart &amp; Sutherland   </span></td><td>1977                                                            </td><td> 62                                                             </td><td>13536                                                           </td><td>248                                                             </td><td>12619                                                           </td><td>52                                                              </td><td><span style=white-space:pre-wrap>random    </span>              </td><td>-1.45644355                                                     </td><td>0.020314413                                                     </td></tr>\n",
       "\t<tr><td> 5                  </td><td>Frimodt-Moller et al</td><td>1973                </td><td> 33                 </td><td> 5036               </td><td> 47                 </td><td> 5761               </td><td>13                  </td><td>alternate           </td><td>-0.21914109         </td><td>0.051951777         </td></tr>\n",
       "\t<tr><td> 6                                                              </td><td><span style=white-space:pre-wrap>Stein &amp; Aronson     </span></td><td>1953                                                            </td><td>180                                                             </td><td> 1361                                                           </td><td>372                                                             </td><td> 1079                                                           </td><td>44                                                              </td><td>alternate                                                       </td><td>-0.95812204                                                     </td><td>0.009905266                                                     </td></tr>\n",
       "\t<tr><td> 7                  </td><td>Vandiviere et al    </td><td>1973                </td><td>  8                 </td><td> 2537               </td><td> 10                 </td><td>  619               </td><td>19                  </td><td>random              </td><td>-1.63377584         </td><td>0.227009675         </td></tr>\n",
       "\t<tr><td> 8                  </td><td>TPT Madras          </td><td>1980                </td><td>505                 </td><td>87886               </td><td>499                 </td><td>87892               </td><td>13                  </td><td>random              </td><td> 0.01202060         </td><td>0.004006962         </td></tr>\n",
       "\t<tr><td> 9                                                              </td><td><span style=white-space:pre-wrap>Coetzee &amp; Berjak    </span></td><td>1968                                                            </td><td> 29                                                             </td><td> 7470                                                           </td><td> 45                                                             </td><td> 7232                                                           </td><td>27                                                              </td><td><span style=white-space:pre-wrap>random    </span>              </td><td>-0.47174604                                                     </td><td>0.056977124                                                     </td></tr>\n",
       "\t<tr><td>10                  </td><td>Rosenthal et al     </td><td>1961                </td><td> 17                 </td><td> 1699               </td><td> 65                 </td><td> 1600               </td><td>42                  </td><td>systematic          </td><td>-1.40121014         </td><td>0.075421726         </td></tr>\n",
       "\t<tr><td>11                  </td><td>Comstock et al      </td><td>1974                </td><td>186                 </td><td>50448               </td><td>141                 </td><td>27197               </td><td>18                  </td><td>systematic          </td><td>-0.34084965         </td><td>0.012525134         </td></tr>\n",
       "\t<tr><td>12                                                              </td><td><span style=white-space:pre-wrap>Comstock &amp; Webster  </span></td><td>1969                                                            </td><td><span style=white-space:pre-wrap>  5</span>                     </td><td> 2493                                                           </td><td><span style=white-space:pre-wrap>  3</span>                     </td><td> 2338                                                           </td><td>33                                                              </td><td>systematic                                                      </td><td> 0.44663468                                                     </td><td>0.534162172                                                     </td></tr>\n",
       "\t<tr><td>13                  </td><td>Comstock et al      </td><td>1976                </td><td> 27                 </td><td>16886               </td><td> 29                 </td><td>17825               </td><td>33                  </td><td>systematic          </td><td>-0.01734187         </td><td>0.071635117         </td></tr>\n",
       "</tbody>\n",
       "</table>\n"
      ],
      "text/latex": [
       "\\begin{tabular}{r|lllllllllll}\n",
       " trial & author & year & tpos & tneg & cpos & cneg & ablat & alloc & yi & vi\\\\\n",
       "\\hline\n",
       "\t  1                   & Aronson              & 1948                 &   4                  &   119                &  11                  &   128                & 44                   & random               & -0.93869414          & 0.357124952         \\\\\n",
       "\t  2                     & Ferguson \\& Simes     & 1949                   &   6                    &   300                  &  29                    &   274                  & 55                     & random                 & -1.66619073            & 0.208132394           \\\\\n",
       "\t  3                   & Rosenthal et al      & 1960                 &   3                  &   228                &  11                  &   209                & 42                   & random               & -1.38629436          & 0.433413078         \\\\\n",
       "\t  4                     & Hart \\& Sutherland    & 1977                   &  62                    & 13536                  & 248                    & 12619                  & 52                     & random                 & -1.45644355            & 0.020314413           \\\\\n",
       "\t  5                   & Frimodt-Moller et al & 1973                 &  33                  &  5036                &  47                  &  5761                & 13                   & alternate            & -0.21914109          & 0.051951777         \\\\\n",
       "\t  6                     & Stein \\& Aronson      & 1953                   & 180                    &  1361                  & 372                    &  1079                  & 44                     & alternate              & -0.95812204            & 0.009905266           \\\\\n",
       "\t  7                   & Vandiviere et al     & 1973                 &   8                  &  2537                &  10                  &   619                & 19                   & random               & -1.63377584          & 0.227009675         \\\\\n",
       "\t  8                   & TPT Madras           & 1980                 & 505                  & 87886                & 499                  & 87892                & 13                   & random               &  0.01202060          & 0.004006962         \\\\\n",
       "\t  9                     & Coetzee \\& Berjak     & 1968                   &  29                    &  7470                  &  45                    &  7232                  & 27                     & random                 & -0.47174604            & 0.056977124           \\\\\n",
       "\t 10                   & Rosenthal et al      & 1961                 &  17                  &  1699                &  65                  &  1600                & 42                   & systematic           & -1.40121014          & 0.075421726         \\\\\n",
       "\t 11                   & Comstock et al       & 1974                 & 186                  & 50448                & 141                  & 27197                & 18                   & systematic           & -0.34084965          & 0.012525134         \\\\\n",
       "\t 12                     & Comstock \\& Webster   & 1969                   &   5                    &  2493                  &   3                    &  2338                  & 33                     & systematic             &  0.44663468            & 0.534162172           \\\\\n",
       "\t 13                   & Comstock et al       & 1976                 &  27                  & 16886                &  29                  & 17825                & 33                   & systematic           & -0.01734187          & 0.071635117         \\\\\n",
       "\\end{tabular}\n"
      ],
      "text/markdown": [
       "\n",
       "trial | author | year | tpos | tneg | cpos | cneg | ablat | alloc | yi | vi | \n",
       "|---|---|---|---|---|---|---|---|---|---|---|---|---|\n",
       "|  1                   | Aronson              | 1948                 |   4                  |   119                |  11                  |   128                | 44                   | random               | -0.93869414          | 0.357124952          | \n",
       "|  2                   | Ferguson & Simes     | 1949                 |   6                  |   300                |  29                  |   274                | 55                   | random               | -1.66619073          | 0.208132394          | \n",
       "|  3                   | Rosenthal et al      | 1960                 |   3                  |   228                |  11                  |   209                | 42                   | random               | -1.38629436          | 0.433413078          | \n",
       "|  4                   | Hart & Sutherland    | 1977                 |  62                  | 13536                | 248                  | 12619                | 52                   | random               | -1.45644355          | 0.020314413          | \n",
       "|  5                   | Frimodt-Moller et al | 1973                 |  33                  |  5036                |  47                  |  5761                | 13                   | alternate            | -0.21914109          | 0.051951777          | \n",
       "|  6                   | Stein & Aronson      | 1953                 | 180                  |  1361                | 372                  |  1079                | 44                   | alternate            | -0.95812204          | 0.009905266          | \n",
       "|  7                   | Vandiviere et al     | 1973                 |   8                  |  2537                |  10                  |   619                | 19                   | random               | -1.63377584          | 0.227009675          | \n",
       "|  8                   | TPT Madras           | 1980                 | 505                  | 87886                | 499                  | 87892                | 13                   | random               |  0.01202060          | 0.004006962          | \n",
       "|  9                   | Coetzee & Berjak     | 1968                 |  29                  |  7470                |  45                  |  7232                | 27                   | random               | -0.47174604          | 0.056977124          | \n",
       "| 10                   | Rosenthal et al      | 1961                 |  17                  |  1699                |  65                  |  1600                | 42                   | systematic           | -1.40121014          | 0.075421726          | \n",
       "| 11                   | Comstock et al       | 1974                 | 186                  | 50448                | 141                  | 27197                | 18                   | systematic           | -0.34084965          | 0.012525134          | \n",
       "| 12                   | Comstock & Webster   | 1969                 |   5                  |  2493                |   3                  |  2338                | 33                   | systematic           |  0.44663468          | 0.534162172          | \n",
       "| 13                   | Comstock et al       | 1976                 |  27                  | 16886                |  29                  | 17825                | 33                   | systematic           | -0.01734187          | 0.071635117          | \n",
       "\n",
       "\n"
      ],
      "text/plain": [
       "   trial author               year tpos tneg  cpos cneg  ablat alloc     \n",
       "1   1    Aronson              1948   4    119  11    128 44    random    \n",
       "2   2    Ferguson & Simes     1949   6    300  29    274 55    random    \n",
       "3   3    Rosenthal et al      1960   3    228  11    209 42    random    \n",
       "4   4    Hart & Sutherland    1977  62  13536 248  12619 52    random    \n",
       "5   5    Frimodt-Moller et al 1973  33   5036  47   5761 13    alternate \n",
       "6   6    Stein & Aronson      1953 180   1361 372   1079 44    alternate \n",
       "7   7    Vandiviere et al     1973   8   2537  10    619 19    random    \n",
       "8   8    TPT Madras           1980 505  87886 499  87892 13    random    \n",
       "9   9    Coetzee & Berjak     1968  29   7470  45   7232 27    random    \n",
       "10 10    Rosenthal et al      1961  17   1699  65   1600 42    systematic\n",
       "11 11    Comstock et al       1974 186  50448 141  27197 18    systematic\n",
       "12 12    Comstock & Webster   1969   5   2493   3   2338 33    systematic\n",
       "13 13    Comstock et al       1976  27  16886  29  17825 33    systematic\n",
       "   yi          vi         \n",
       "1  -0.93869414 0.357124952\n",
       "2  -1.66619073 0.208132394\n",
       "3  -1.38629436 0.433413078\n",
       "4  -1.45644355 0.020314413\n",
       "5  -0.21914109 0.051951777\n",
       "6  -0.95812204 0.009905266\n",
       "7  -1.63377584 0.227009675\n",
       "8   0.01202060 0.004006962\n",
       "9  -0.47174604 0.056977124\n",
       "10 -1.40121014 0.075421726\n",
       "11 -0.34084965 0.012525134\n",
       "12  0.44663468 0.534162172\n",
       "13 -0.01734187 0.071635117"
      ]
     },
     "metadata": {},
     "output_type": "display_data"
    }
   ],
   "source": [
    "## Solution.\n",
    "library(metafor)\n",
    "dat.bcg <- escalc(measure = \"OR\", ai = tpos, bi = tneg, ci = cpos, di = cneg, data = dat.bcg)\n",
    "dat.bcg"
   ]
  },
  {
   "cell_type": "markdown",
   "metadata": {},
   "source": [
    "### Exercise"
   ]
  },
  {
   "cell_type": "markdown",
   "metadata": {},
   "source": [
    "You can retransform the log(OR) to OR by exponentiating (`exp()` function in R) the `yi` column. How can you do that?"
   ]
  },
  {
   "cell_type": "code",
   "execution_count": 12,
   "metadata": {},
   "outputs": [
    {
     "data": {
      "text/html": [
       "<ol class=list-inline>\n",
       "\t<li>0.391138273491215</li>\n",
       "\t<li>0.188965517241379</li>\n",
       "\t<li>0.25</li>\n",
       "\t<li>0.233063682033097</li>\n",
       "\t<li>0.803208388961182</li>\n",
       "\t<li>0.383612618804959</li>\n",
       "\t<li>0.195191170674024</li>\n",
       "\t<li>1.01209313924027</li>\n",
       "\t<li>0.623911944072587</li>\n",
       "\t<li>0.24629872775841</li>\n",
       "\t<li>0.711165826534675</li>\n",
       "\t<li>1.56304318759192</li>\n",
       "\t<li>0.98280763088786</li>\n",
       "</ol>\n"
      ],
      "text/latex": [
       "\\begin{enumerate*}\n",
       "\\item 0.391138273491215\n",
       "\\item 0.188965517241379\n",
       "\\item 0.25\n",
       "\\item 0.233063682033097\n",
       "\\item 0.803208388961182\n",
       "\\item 0.383612618804959\n",
       "\\item 0.195191170674024\n",
       "\\item 1.01209313924027\n",
       "\\item 0.623911944072587\n",
       "\\item 0.24629872775841\n",
       "\\item 0.711165826534675\n",
       "\\item 1.56304318759192\n",
       "\\item 0.98280763088786\n",
       "\\end{enumerate*}\n"
      ],
      "text/markdown": [
       "1. 0.391138273491215\n",
       "2. 0.188965517241379\n",
       "3. 0.25\n",
       "4. 0.233063682033097\n",
       "5. 0.803208388961182\n",
       "6. 0.383612618804959\n",
       "7. 0.195191170674024\n",
       "8. 1.01209313924027\n",
       "9. 0.623911944072587\n",
       "10. 0.24629872775841\n",
       "11. 0.711165826534675\n",
       "12. 1.56304318759192\n",
       "13. 0.98280763088786\n",
       "\n",
       "\n"
      ],
      "text/plain": [
       " [1] 0.3911383 0.1889655 0.2500000 0.2330637 0.8032084 0.3836126 0.1951912\n",
       " [8] 1.0120931 0.6239119 0.2462987 0.7111658 1.5630432 0.9828076\n",
       "attr(,\"measure\")\n",
       "[1] \"OR\"\n",
       "attr(,\"ni\")\n",
       " [1]    262    609    451  26465  10877   2992   3174 176782  14776   3381\n",
       "[11]  77972   4839  34767"
      ]
     },
     "metadata": {},
     "output_type": "display_data"
    }
   ],
   "source": [
    "## Solution.\n",
    "dat.bcg <- escalc(measure = \"OR\", ai = tpos, bi = tneg, ci = cpos, di = cneg, data = dat.bcg)\n",
    "exp(dat.bcg$yi)"
   ]
  },
  {
   "cell_type": "markdown",
   "metadata": {},
   "source": [
    "## Exercise"
   ]
  },
  {
   "cell_type": "markdown",
   "metadata": {},
   "source": [
    "This exercise addresses issues with coding and handling of effect sizes. The following excerpt is from an article on “Verbal Ability and Teacher Effectiveness” by Andrew et al. 2005. It is a study that was used in the meta-analysis by Aloe and Becker (2009) on “Teacher Verbal Ability and School Outcomes: Where Is the Evidence?”."
   ]
  },
  {
   "cell_type": "markdown",
   "metadata": {},
   "source": [
    "![f_andrewetal2005](figure/f_andrewetal2005.png)"
   ]
  },
  {
   "cell_type": "markdown",
   "metadata": {},
   "source": [
    "### Exercise"
   ]
  },
  {
   "cell_type": "markdown",
   "metadata": {},
   "source": [
    "Which of these three effect sizes (r) do you think is most appropriate?"
   ]
  },
  {
   "cell_type": "code",
   "execution_count": 13,
   "metadata": {},
   "outputs": [
    {
     "data": {
      "text/html": [
       "'The first one, r = 0.234'"
      ],
      "text/latex": [
       "'The first one, r = 0.234'"
      ],
      "text/markdown": [
       "'The first one, r = 0.234'"
      ],
      "text/plain": [
       "[1] \"The first one, r = 0.234\""
      ]
     },
     "metadata": {},
     "output_type": "display_data"
    }
   ],
   "source": [
    "## Solution.\n",
    "## We are interested in verbal abilities and the other two correlation coefficient \n",
    "## refer to other subscales/subsets. \n",
    "\"The first one, r = 0.234\""
   ]
  },
  {
   "cell_type": "markdown",
   "metadata": {},
   "source": [
    "### Exercise"
   ]
  },
  {
   "cell_type": "markdown",
   "metadata": {},
   "source": [
    "For a univariate meta-analysis we need effect sizes and their variances (i.e., the squared standard error). Since this effect size is a correlation coefficient, we first need to perform the Fisher’s z transformation. Then, calculate the variance and the standard error for the transformed correlation coefficient."
   ]
  },
  {
   "cell_type": "code",
   "execution_count": 14,
   "metadata": {},
   "outputs": [
    {
     "data": {
      "text/html": [
       "0.238417017362371"
      ],
      "text/latex": [
       "0.238417017362371"
      ],
      "text/markdown": [
       "0.238417017362371"
      ],
      "text/plain": [
       "[1] 0.238417"
      ]
     },
     "metadata": {},
     "output_type": "display_data"
    }
   ],
   "source": [
    "## Solution.\n",
    "## Perform a Fisher's z transformation on r for the most general measures,\n",
    "\n",
    "r <- 0.234\n",
    "n <- 76\n",
    "z.r <- 0.5 * log((1 + r)/(1 - r))\n",
    "z.r"
   ]
  },
  {
   "cell_type": "code",
   "execution_count": 15,
   "metadata": {},
   "outputs": [
    {
     "data": {
      "text/html": [
       "0.0136986301369863"
      ],
      "text/latex": [
       "0.0136986301369863"
      ],
      "text/markdown": [
       "0.0136986301369863"
      ],
      "text/plain": [
       "[1] 0.01369863"
      ]
     },
     "metadata": {},
     "output_type": "display_data"
    }
   ],
   "source": [
    "## Solution.\n",
    "var.z.r <- 1 / (n - 3)\n",
    "var.z.r"
   ]
  },
  {
   "cell_type": "code",
   "execution_count": 16,
   "metadata": {},
   "outputs": [
    {
     "data": {
      "text/html": [
       "0.117041147196131"
      ],
      "text/latex": [
       "0.117041147196131"
      ],
      "text/markdown": [
       "0.117041147196131"
      ],
      "text/plain": [
       "[1] 0.1170411"
      ]
     },
     "metadata": {},
     "output_type": "display_data"
    }
   ],
   "source": [
    "## Solution.\n",
    "(se.z.r <- sqrt(var.z.r)) ## (...) is a shortcut for print(...)"
   ]
  },
  {
   "cell_type": "code",
   "execution_count": 19,
   "metadata": {},
   "outputs": [
    {
     "data": {
      "text/html": [
       "<table>\n",
       "<thead><tr><th scope=col>yi</th><th scope=col>vi</th></tr></thead>\n",
       "<tbody>\n",
       "\t<tr><td>0.238417  </td><td>0.01369863</td></tr>\n",
       "</tbody>\n",
       "</table>\n"
      ],
      "text/latex": [
       "\\begin{tabular}{r|ll}\n",
       " yi & vi\\\\\n",
       "\\hline\n",
       "\t 0.238417   & 0.01369863\\\\\n",
       "\\end{tabular}\n"
      ],
      "text/markdown": [
       "\n",
       "yi | vi | \n",
       "|---|\n",
       "| 0.238417   | 0.01369863 | \n",
       "\n",
       "\n"
      ],
      "text/plain": [
       "  yi       vi        \n",
       "1 0.238417 0.01369863"
      ]
     },
     "metadata": {},
     "output_type": "display_data"
    }
   ],
   "source": [
    "## Solution.\n",
    "## You also can use escalc() to calculate the Fisher's r-to-z transformed correlation \n",
    "## coefficient.\n",
    "escalc(measure=\"ZCOR\", ri = 0.234, ni = 76)"
   ]
  },
  {
   "cell_type": "code",
   "execution_count": 18,
   "metadata": {},
   "outputs": [
    {
     "data": {
      "text/html": [
       "0.0119131495938133"
      ],
      "text/latex": [
       "0.0119131495938133"
      ],
      "text/markdown": [
       "0.0119131495938133"
      ],
      "text/plain": [
       "[1] 0.01191315"
      ]
     },
     "metadata": {},
     "output_type": "display_data"
    },
    {
     "data": {
      "text/html": [
       "0.109147375569976"
      ],
      "text/latex": [
       "0.109147375569976"
      ],
      "text/markdown": [
       "0.109147375569976"
      ],
      "text/plain": [
       "[1] 0.1091474"
      ]
     },
     "metadata": {},
     "output_type": "display_data"
    }
   ],
   "source": [
    "## Solution.\n",
    "## Here is the variance and SE for the raw correlation coefficient\n",
    "(var.r <- (1-r^2)^2/(n-1))\n",
    "sqrt(var.r)"
   ]
  }
 ],
 "metadata": {
  "kernelspec": {
   "display_name": "R",
   "language": "R",
   "name": "ir"
  },
  "language_info": {
   "codemirror_mode": "r",
   "file_extension": ".r",
   "mimetype": "text/x-r-source",
   "name": "R",
   "pygments_lexer": "r",
   "version": "3.6.1"
  },
  "toc": {
   "base_numbering": 1,
   "nav_menu": {},
   "number_sections": true,
   "sideBar": true,
   "skip_h1_title": false,
   "title_cell": "Table of Contents",
   "title_sidebar": "Contents",
   "toc_cell": true,
   "toc_position": {},
   "toc_section_display": true,
   "toc_window_display": true
  }
 },
 "nbformat": 4,
 "nbformat_minor": 2
}
