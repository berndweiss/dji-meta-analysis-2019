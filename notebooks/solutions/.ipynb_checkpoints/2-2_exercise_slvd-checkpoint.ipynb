{
 "cells": [
  {
   "cell_type": "markdown",
   "metadata": {},
   "source": [
    "<h1>A two-day workshop at the DJI, Munich 2019:<br> Meta-Analysis in Social Research<span class=\"tocSkip\"></span></h1>"
   ]
  },
  {
   "cell_type": "markdown",
   "metadata": {
    "toc": true
   },
   "source": [
    "<h1>Table of Contents<span class=\"tocSkip\"></span></h1>\n",
    "<div class=\"toc\"><ul class=\"toc-item\"><li><span><a href=\"#Preliminaries\" data-toc-modified-id=\"Preliminaries-1\"><span class=\"toc-item-num\">1&nbsp;&nbsp;</span>Preliminaries</a></span></li><li><span><a href=\"#Exercise\" data-toc-modified-id=\"Exercise-2\"><span class=\"toc-item-num\">2&nbsp;&nbsp;</span>Exercise</a></span></li><li><span><a href=\"#Exercise\" data-toc-modified-id=\"Exercise-3\"><span class=\"toc-item-num\">3&nbsp;&nbsp;</span>Exercise</a></span></li><li><span><a href=\"#Exercise\" data-toc-modified-id=\"Exercise-4\"><span class=\"toc-item-num\">4&nbsp;&nbsp;</span>Exercise</a></span></li><li><span><a href=\"#Exercise\" data-toc-modified-id=\"Exercise-5\"><span class=\"toc-item-num\">5&nbsp;&nbsp;</span>Exercise</a></span></li></ul></div>"
   ]
  },
  {
   "cell_type": "markdown",
   "metadata": {},
   "source": [
    "## Preliminaries"
   ]
  },
  {
   "cell_type": "markdown",
   "metadata": {},
   "source": [
    "Please do not touch anything in this section, otherwise this notebook might not work properly. You have been warned! Also, if you have no clue what you are staring at, please consult our [Preface chapter](1-1_preface.ipynb)."
   ]
  },
  {
   "cell_type": "code",
   "execution_count": 22,
   "metadata": {},
   "outputs": [],
   "source": [
    "source(\"run_me_first.R\")"
   ]
  },
  {
   "cell_type": "markdown",
   "metadata": {},
   "source": [
    "## Exercise"
   ]
  },
  {
   "cell_type": "markdown",
   "metadata": {},
   "source": [
    "In this exercise, we want you to estimate the fixed-effect and the random-effects model for the `dat.bcg` data (using risk ratios).\n",
    "\n",
    "Next, we would like you to manually estimate the “common” effect, i.e. the summary effect according to the fixed-effect model, its variance/standard error and the 95% CI. You will need the formulas and the slide “Summary” in the subsection ‘Distinction between fixed- and random-effects’ might be useful to get you started. Tip: The function `sum(x)` calculates the sum of a vector `x`. \n",
    "\n",
    "Note: you will:\n",
    "1. compute the weights under fixed effect models (tip: `wi <- 1/dat.bcg$vi`)\n",
    "2. calculate the weighted mean (tip: `ma.fem <- sum(wi * dat.bcg$yi) / sum(wi)`)\n",
    "3. calculate the variance (tip: `var.ma.fem <- 1/sum(wi)`)\n",
    "4. calculate the standard error (tip: `se.ma.fem <- sqrt(var.ma.fem)`)\n",
    "5. finally, compute the 95% CI (tip: for the lower bound `ma.fem.ll <- ma.fem - 1.96 * se.ma.fem`)"
   ]
  },
  {
   "cell_type": "code",
   "execution_count": 7,
   "metadata": {},
   "outputs": [
    {
     "data": {
      "text/html": [
       "-0.430285163654091"
      ],
      "text/latex": [
       "-0.430285163654091"
      ],
      "text/markdown": [
       "-0.430285163654091"
      ],
      "text/plain": [
       "[1] -0.4302852"
      ]
     },
     "metadata": {},
     "output_type": "display_data"
    }
   ],
   "source": [
    "## Solution.\n",
    "\n",
    "library(metafor)\n",
    "dat.bcg <- escalc(measure = \"RR\", ai = tpos, bi = tneg, ci = cpos, di = cneg, data = dat.bcg)\n",
    "\n",
    "## First, we need to calculate the weights w\n",
    "wi <- 1/dat.bcg$vi\n",
    "\n",
    "## Next, calculate the weighted mean\n",
    "ma.fem <- sum(wi * dat.bcg$yi) / sum(wi)\n",
    "ma.fem"
   ]
  },
  {
   "cell_type": "code",
   "execution_count": 8,
   "metadata": {},
   "outputs": [
    {
     "data": {
      "text/html": [
       "0.00164014889013819"
      ],
      "text/latex": [
       "0.00164014889013819"
      ],
      "text/markdown": [
       "0.00164014889013819"
      ],
      "text/plain": [
       "[1] 0.001640149"
      ]
     },
     "metadata": {},
     "output_type": "display_data"
    }
   ],
   "source": [
    "## Solution.\n",
    "## The variance can be determined as follows:\n",
    "var.ma.fem <- 1/sum(wi)\n",
    "var.ma.fem"
   ]
  },
  {
   "cell_type": "code",
   "execution_count": 9,
   "metadata": {},
   "outputs": [
    {
     "data": {
      "text/html": [
       "0.0404987517108638"
      ],
      "text/latex": [
       "0.0404987517108638"
      ],
      "text/markdown": [
       "0.0404987517108638"
      ],
      "text/plain": [
       "[1] 0.04049875"
      ]
     },
     "metadata": {},
     "output_type": "display_data"
    }
   ],
   "source": [
    "## Solution.\n",
    "## ... and the standard error is\n",
    "se.ma.fem <- sqrt(var.ma.fem)\n",
    "se.ma.fem"
   ]
  },
  {
   "cell_type": "code",
   "execution_count": 10,
   "metadata": {},
   "outputs": [
    {
     "data": {
      "text/html": [
       "-0.509662717007384"
      ],
      "text/latex": [
       "-0.509662717007384"
      ],
      "text/markdown": [
       "-0.509662717007384"
      ],
      "text/plain": [
       "[1] -0.5096627"
      ]
     },
     "metadata": {},
     "output_type": "display_data"
    }
   ],
   "source": [
    "## Solution.\n",
    "## Finally, we can compute the confidence intervall:\n",
    "ma.fem.ll <- ma.fem - 1.96 * se.ma.fem\n",
    "ma.fem.ul <- ma.fem + 1.96 * se.ma.fem\n",
    "ma.fem.ll"
   ]
  },
  {
   "cell_type": "code",
   "execution_count": 11,
   "metadata": {},
   "outputs": [
    {
     "data": {
      "text/html": [
       "-0.350907610300798"
      ],
      "text/latex": [
       "-0.350907610300798"
      ],
      "text/markdown": [
       "-0.350907610300798"
      ],
      "text/plain": [
       "[1] -0.3509076"
      ]
     },
     "metadata": {},
     "output_type": "display_data"
    }
   ],
   "source": [
    "## Solution.\n",
    "ma.fem.ul"
   ]
  },
  {
   "cell_type": "markdown",
   "metadata": {},
   "source": [
    "## Exercise"
   ]
  },
  {
   "cell_type": "markdown",
   "metadata": {},
   "source": [
    "Of course, as you may already know, you do not have to estimate summary effects by hand. `metafor`'s `rma()` function can do that for you.\n",
    "\n",
    "For this exercise, you can apply the `rma()` function to replicate the results from exercise 1, i.e. estimate a fixed-effect summary. If you forgot how to apply the `?rma` function, check the metafor introduction slides and exercises. (Remember, you only need for now to know three arguments in the ?rma function: the effect-size argument `yi` , the variance argument `vi`, and the argument `method`. With the latter, you specify which effect-size model you want to apply.) Here, we need the fixed-effect model and therefore the argument is `method = \"FE\"`. \n",
    "\n",
    "Note: See the slides from the morning, the command that you need were used in the example, but be sure to\n",
    "use the `method = \"FE\"` for this exercise."
   ]
  },
  {
   "cell_type": "code",
   "execution_count": 12,
   "metadata": {},
   "outputs": [
    {
     "data": {
      "text/plain": [
       "\n",
       "Fixed-Effects Model (k = 13)\n",
       "\n",
       "Test for Heterogeneity: \n",
       "Q(df = 12) = 152.2330, p-val < .0001\n",
       "\n",
       "Model Results:\n",
       "\n",
       "estimate      se      zval    pval    ci.lb    ci.ub     \n",
       " -0.4303  0.0405  -10.6247  <.0001  -0.5097  -0.3509  ***\n",
       "\n",
       "---\n",
       "Signif. codes:  0 '***' 0.001 '**' 0.01 '*' 0.05 '.' 0.1 ' ' 1 \n"
      ]
     },
     "metadata": {},
     "output_type": "display_data"
    }
   ],
   "source": [
    "## Solution.\n",
    "library(metafor)\n",
    "dat.bcg <- escalc(measure = \"RR\", ai = tpos, bi = tneg, ci = cpos, di = cneg, data = dat.bcg)\n",
    "rma(yi = yi, vi = vi, method = \"FE\", data = dat.bcg)"
   ]
  },
  {
   "cell_type": "markdown",
   "metadata": {},
   "source": [
    "## Exercise"
   ]
  },
  {
   "cell_type": "markdown",
   "metadata": {},
   "source": [
    "Finally, we will estimate the random-effects model. This morning, we have discussed that there exist several\n",
    "between-study variance estimates and we introduced the method-of-moments estimator (also known as DerSimonian and Laird estimator). In `metafor`’s `rma()` function, this can be accomplished with the `method = \"DL\"` argument.\n",
    "\n",
    "So, estimate the random-effects model and discuss the following questions:\n",
    "1. How large is the difference between the FE and the RE estimate?\n",
    "2. Compare the confidence intervals of both estimates. Which one is (should be) larger and why?\n",
    "3. Which model would you choose?"
   ]
  },
  {
   "cell_type": "code",
   "execution_count": 13,
   "metadata": {},
   "outputs": [
    {
     "data": {
      "text/plain": [
       "\n",
       "Random-Effects Model (k = 13; tau^2 estimator: DL)\n",
       "\n",
       "tau^2 (estimated amount of total heterogeneity): 0.3088 (SE = 0.2299)\n",
       "tau (square root of estimated tau^2 value):      0.5557\n",
       "I^2 (total heterogeneity / total variability):   92.12%\n",
       "H^2 (total variability / sampling variability):  12.69\n",
       "\n",
       "Test for Heterogeneity: \n",
       "Q(df = 12) = 152.2330, p-val < .0001\n",
       "\n",
       "Model Results:\n",
       "\n",
       "estimate      se     zval    pval    ci.lb    ci.ub     \n",
       " -0.7141  0.1787  -3.9952  <.0001  -1.0644  -0.3638  ***\n",
       "\n",
       "---\n",
       "Signif. codes:  0 '***' 0.001 '**' 0.01 '*' 0.05 '.' 0.1 ' ' 1 \n"
      ]
     },
     "metadata": {},
     "output_type": "display_data"
    }
   ],
   "source": [
    "## Solution.\n",
    "library(metafor)\n",
    "dat.bcg <- escalc(measure = \"RR\", ai = tpos, bi = tneg, ci = cpos, di = cneg, data = dat.bcg)\n",
    "ma.rem <- rma(yi = yi, vi = vi, method = \"DL\", data = dat.bcg)\n",
    "ma.rem"
   ]
  },
  {
   "cell_type": "code",
   "execution_count": 2,
   "metadata": {},
   "outputs": [
    {
     "data": {
      "text/plain": [
       "\n",
       "Random-Effects Model (k = 13; tau^2 estimator: DL)\n",
       "\n",
       "tau^2 (estimated amount of total heterogeneity): 0.3088 (SE = 0.2299)\n",
       "tau (square root of estimated tau^2 value):      0.5557\n",
       "I^2 (total heterogeneity / total variability):   92.12%\n",
       "H^2 (total variability / sampling variability):  12.69\n",
       "\n",
       "Test for Heterogeneity: \n",
       "Q(df = 12) = 152.2330, p-val < .0001\n",
       "\n",
       "Model Results:\n",
       "\n",
       "estimate      se     zval    pval    ci.lb    ci.ub     \n",
       " -0.7141  0.1787  -3.9952  <.0001  -1.0644  -0.3638  ***\n",
       "\n",
       "---\n",
       "Signif. codes:  0 '***' 0.001 '**' 0.01 '*' 0.05 '.' 0.1 ' ' 1 \n"
      ]
     },
     "metadata": {},
     "output_type": "display_data"
    },
    {
     "data": {
      "text/plain": [
       " pred ci.lb ci.ub cr.lb cr.ub\n",
       " 0.49  0.34  0.70  0.16  1.54"
      ]
     },
     "metadata": {},
     "output_type": "display_data"
    }
   ],
   "source": [
    "## Solution.\n",
    "## Here is another ways to directly include the study outcomes without using escalc().\n",
    "library(metafor)\n",
    "rma.out <- rma(measure = \"RR\", ai = tpos, bi = tneg, ci = cpos, di = cneg, method = \"DL\", \n",
    "               data = dat.bcg)\n",
    "rma.out"
   ]
  },
  {
   "cell_type": "code",
   "execution_count": 3,
   "metadata": {},
   "outputs": [
    {
     "data": {
      "text/plain": [
       " pred ci.lb ci.ub cr.lb cr.ub\n",
       " 0.49  0.34  0.70  0.16  1.54"
      ]
     },
     "metadata": {},
     "output_type": "display_data"
    }
   ],
   "source": [
    "## Solution.\n",
    "\n",
    "## Since the average effect size is a log(RR), for interpretation and publication, we need to \n",
    "## retransform it to the RR metric. \n",
    "## Source: http://www.metafor-project.org/doku.php/tips:assembling_data_or\n",
    "predict(rma.out, transf = exp, digits = 2)"
   ]
  },
  {
   "cell_type": "code",
   "execution_count": null,
   "metadata": {},
   "outputs": [],
   "source": [
    "## Solution. \n",
    "\n",
    "## Another, more technical approach is to assign the result of the rma() command  \n",
    "## to an object called rma.out. We now can access all the results in rma.out, for instance, \n",
    "## the the avergage effect size. The variable name of this average effect size is \"b\". \n",
    "## Hence, we can use:\n",
    "exp(rma.out$b)\n",
    "## Use str(rma.out) to learn about other statistics that can be found in the rma object. "
   ]
  },
  {
   "cell_type": "code",
   "execution_count": 15,
   "metadata": {},
   "outputs": [
    {
     "data": {
      "text/plain": [
       "\n",
       "Random-Effects Model (k = 13; tau^2 estimator: EB)\n",
       "\n",
       "tau^2 (estimated amount of total heterogeneity): 0.2682 (SE = 0.1801)\n",
       "tau (square root of estimated tau^2 value):      0.5178\n",
       "I^2 (total heterogeneity / total variability):   87.49%\n",
       "H^2 (total variability / sampling variability):  7.99\n",
       "\n",
       "Test for Heterogeneity: \n",
       "Q(df = 12) = 85.8625, p-val < .0001\n",
       "\n",
       "Model Results:\n",
       "\n",
       "estimate      se     zval    pval    ci.lb    ci.ub    \n",
       " -0.5429  0.1842  -2.9474  0.0032  -0.9040  -0.1819  **\n",
       "\n",
       "---\n",
       "Signif. codes:  0 '***' 0.001 '**' 0.01 '*' 0.05 '.' 0.1 ' ' 1 \n"
      ]
     },
     "metadata": {},
     "output_type": "display_data"
    }
   ],
   "source": [
    "## Solution according to http://www.metafor-project.org/doku.php/analyses:berkey1995.\n",
    "## IMPORTANT: Different metehod (\"EB\") applied! \n",
    "library(metafor)\n",
    "dat.bcg <- escalc(measure = \"RR\", ai = tpos, bi = tneg, ci = cpos, di = cneg, data = dat.bcg)\n",
    "dat.bcg$vi <- with(dat.bcg, sum(tneg/tpos)/(13*(tneg+tpos)) + \n",
    "                    sum(cneg/cpos)/(13*(cneg+cpos)))\n",
    "ma.rem <- rma(yi = yi, vi = vi, method = \"EB\", data = dat.bcg)\n",
    "ma.rem"
   ]
  },
  {
   "cell_type": "markdown",
   "metadata": {},
   "source": [
    "## Exercise"
   ]
  },
  {
   "cell_type": "markdown",
   "metadata": {},
   "source": [
    "For those of you who are already bored, we suggest that you try estimating the RE model by hand. \n",
    "\n",
    "Note: to estimate between-studies variability you will need to compute $Q_T$ and use this information to estimate\n",
    "the $\\tau^2_{DL}$. Formulas are provided in our slides."
   ]
  },
  {
   "cell_type": "code",
   "execution_count": 16,
   "metadata": {},
   "outputs": [
    {
     "data": {
      "text/html": [
       "152.233008082373"
      ],
      "text/latex": [
       "152.233008082373"
      ],
      "text/markdown": [
       "152.233008082373"
      ],
      "text/plain": [
       "[1] 152.233"
      ]
     },
     "metadata": {},
     "output_type": "display_data"
    }
   ],
   "source": [
    "## Solution.\n",
    "library(metafor)\n",
    "dat.bcg <- escalc(measure = \"RR\", ai = tpos, bi = tneg, ci = cpos, di = cneg, data = dat.bcg)\n",
    "## First, we need to calculate the between-study variance tau^2\n",
    "## (using the method-of-moments approach) (see excercise 1 for ma.fem)\n",
    "Q.T <- sum((dat.bcg$yi - ma.fem)^2 / dat.bcg$vi)\n",
    "Q.T"
   ]
  },
  {
   "cell_type": "code",
   "execution_count": 17,
   "metadata": {},
   "outputs": [
    {
     "data": {
      "text/html": [
       "0.308760262862376"
      ],
      "text/latex": [
       "0.308760262862376"
      ],
      "text/markdown": [
       "0.308760262862376"
      ],
      "text/plain": [
       "[1] 0.3087603"
      ]
     },
     "metadata": {},
     "output_type": "display_data"
    }
   ],
   "source": [
    "## Solution.\n",
    "## Now, let's estimate tau^2\n",
    "w <- 1/dat.bcg$vi\n",
    "tau2 <- (Q.T - (length(dat.bcg$yi) - 1)) /( sum(wi) - (sum(wi^2)/sum(wi)) )\n",
    "tau2"
   ]
  },
  {
   "cell_type": "code",
   "execution_count": 18,
   "metadata": {},
   "outputs": [
    {
     "data": {
      "text/html": [
       "-0.714117222073227"
      ],
      "text/latex": [
       "-0.714117222073227"
      ],
      "text/markdown": [
       "-0.714117222073227"
      ],
      "text/plain": [
       "[1] -0.7141172"
      ]
     },
     "metadata": {},
     "output_type": "display_data"
    }
   ],
   "source": [
    "## Solution.\n",
    "## Next, we need to calculate w*\n",
    "w.star <- 1/(dat.bcg$vi + tau2)\n",
    "ma.rem <- sum(dat.bcg$yi * w.star) / sum(w.star)\n",
    "ma.rem"
   ]
  },
  {
   "cell_type": "code",
   "execution_count": 19,
   "metadata": {},
   "outputs": [
    {
     "data": {
      "text/html": [
       "0.178742089535403"
      ],
      "text/latex": [
       "0.178742089535403"
      ],
      "text/markdown": [
       "0.178742089535403"
      ],
      "text/plain": [
       "[1] 0.1787421"
      ]
     },
     "metadata": {},
     "output_type": "display_data"
    }
   ],
   "source": [
    "## Solution.\n",
    "## Finally, we need the standard error for the RE model estimate\n",
    "se.ma.rem <- sqrt(1/sum(w.star))\n",
    "se.ma.rem"
   ]
  },
  {
   "cell_type": "code",
   "execution_count": 20,
   "metadata": {},
   "outputs": [
    {
     "data": {
      "text/plain": [
       "\n",
       "Random-Effects Model (k = 13; tau^2 estimator: DL)\n",
       "\n",
       "tau^2 (estimated amount of total heterogeneity): 0.3088 (SE = 0.2299)\n",
       "tau (square root of estimated tau^2 value):      0.5557\n",
       "I^2 (total heterogeneity / total variability):   92.12%\n",
       "H^2 (total variability / sampling variability):  12.69\n",
       "\n",
       "Test for Heterogeneity: \n",
       "Q(df = 12) = 152.2330, p-val < .0001\n",
       "\n",
       "Model Results:\n",
       "\n",
       "estimate      se     zval    pval    ci.lb    ci.ub     \n",
       " -0.7141  0.1787  -3.9952  <.0001  -1.0644  -0.3638  ***\n",
       "\n",
       "---\n",
       "Signif. codes:  0 '***' 0.001 '**' 0.01 '*' 0.05 '.' 0.1 ' ' 1 \n"
      ]
     },
     "metadata": {},
     "output_type": "display_data"
    }
   ],
   "source": [
    "## Solution.\n",
    "rma(yi = yi, vi = vi, method = \"DL\", data = dat.bcg)"
   ]
  }
 ],
 "metadata": {
  "kernelspec": {
   "display_name": "R",
   "language": "R",
   "name": "ir"
  },
  "language_info": {
   "codemirror_mode": "r",
   "file_extension": ".r",
   "mimetype": "text/x-r-source",
   "name": "R",
   "pygments_lexer": "r",
   "version": "3.6.1"
  },
  "toc": {
   "base_numbering": 1,
   "nav_menu": {},
   "number_sections": true,
   "sideBar": true,
   "skip_h1_title": false,
   "title_cell": "Table of Contents",
   "title_sidebar": "Contents",
   "toc_cell": true,
   "toc_position": {},
   "toc_section_display": true,
   "toc_window_display": true
  }
 },
 "nbformat": 4,
 "nbformat_minor": 2
}
