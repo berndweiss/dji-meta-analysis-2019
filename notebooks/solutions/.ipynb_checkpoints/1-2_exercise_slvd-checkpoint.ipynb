{
 "cells": [
  {
   "cell_type": "markdown",
   "metadata": {},
   "source": [
    "<h1>A two-day workshop at the DJI, Munich 2019:<br> Meta-Analysis in Social Research<span class=\"tocSkip\"></span></h1>"
   ]
  },
  {
   "cell_type": "markdown",
   "metadata": {
    "toc": true
   },
   "source": [
    "<h1>Table of Contents<span class=\"tocSkip\"></span></h1>\n",
    "<div class=\"toc\"><ul class=\"toc-item\"><li><span><a href=\"#Preliminaries\" data-toc-modified-id=\"Preliminaries-1\"><span class=\"toc-item-num\">1&nbsp;&nbsp;</span>Preliminaries</a></span></li><li><span><a href=\"#Exercise:-Load-the-BCG-dataset\" data-toc-modified-id=\"Exercise:-Load-the-BCG-dataset-2\"><span class=\"toc-item-num\">2&nbsp;&nbsp;</span>Exercise: Load the BCG dataset</a></span></li><li><span><a href=\"#Exercise:-Understanding-your-data\" data-toc-modified-id=\"Exercise:-Understanding-your-data-3\"><span class=\"toc-item-num\">3&nbsp;&nbsp;</span>Exercise: Understanding your data</a></span></li><li><span><a href=\"#Exercise:-Indexing\" data-toc-modified-id=\"Exercise:-Indexing-4\"><span class=\"toc-item-num\">4&nbsp;&nbsp;</span>Exercise: Indexing</a></span></li><li><span><a href=\"#More-exercises-needed?\" data-toc-modified-id=\"More-exercises-needed?-5\"><span class=\"toc-item-num\">5&nbsp;&nbsp;</span>More exercises needed?</a></span></li></ul></div>"
   ]
  },
  {
   "cell_type": "markdown",
   "metadata": {},
   "source": [
    "## Preliminaries"
   ]
  },
  {
   "cell_type": "markdown",
   "metadata": {},
   "source": [
    "Please do not touch anything in this section, otherwise this notebook might not work properly. You have been warned! Also, if you have no clue what you are staring at, please consult our [Preface chapter](1-1_preface.ipynb)."
   ]
  },
  {
   "cell_type": "code",
   "execution_count": 2,
   "metadata": {},
   "outputs": [
    {
     "name": "stderr",
     "output_type": "stream",
     "text": [
      "Loading required package: Matrix\n",
      "Loading 'metafor' package (version 2.0-0). For an overview \n",
      "and introduction to the package please type: help(metafor).\n"
     ]
    }
   ],
   "source": [
    "source(\"run_me_first.R\")"
   ]
  },
  {
   "cell_type": "markdown",
   "metadata": {},
   "source": [
    "## Exercise: Load the BCG dataset"
   ]
  },
  {
   "cell_type": "markdown",
   "metadata": {},
   "source": [
    "Again, please load and print out the `dat.bcg` dataset. Remember that you need to load the `metafor` package first using the `library()` function."
   ]
  },
  {
   "cell_type": "code",
   "execution_count": 3,
   "metadata": {},
   "outputs": [
    {
     "data": {
      "text/html": [
       "<table>\n",
       "<thead><tr><th scope=col>trial</th><th scope=col>author</th><th scope=col>year</th><th scope=col>tpos</th><th scope=col>tneg</th><th scope=col>cpos</th><th scope=col>cneg</th><th scope=col>ablat</th><th scope=col>alloc</th></tr></thead>\n",
       "<tbody>\n",
       "\t<tr><td> 1                  </td><td>Aronson             </td><td>1948                </td><td>  4                 </td><td>  119               </td><td> 11                 </td><td>  128               </td><td>44                  </td><td>random              </td></tr>\n",
       "\t<tr><td> 2                                                              </td><td><span style=white-space:pre-wrap>Ferguson &amp; Simes    </span></td><td>1949                                                            </td><td><span style=white-space:pre-wrap>  6</span>                     </td><td><span style=white-space:pre-wrap>  300</span>                   </td><td> 29                                                             </td><td><span style=white-space:pre-wrap>  274</span>                   </td><td>55                                                              </td><td><span style=white-space:pre-wrap>random    </span>              </td></tr>\n",
       "\t<tr><td> 3                  </td><td>Rosenthal et al     </td><td>1960                </td><td>  3                 </td><td>  228               </td><td> 11                 </td><td>  209               </td><td>42                  </td><td>random              </td></tr>\n",
       "\t<tr><td> 4                                                              </td><td><span style=white-space:pre-wrap>Hart &amp; Sutherland   </span></td><td>1977                                                            </td><td> 62                                                             </td><td>13536                                                           </td><td>248                                                             </td><td>12619                                                           </td><td>52                                                              </td><td><span style=white-space:pre-wrap>random    </span>              </td></tr>\n",
       "\t<tr><td> 5                  </td><td>Frimodt-Moller et al</td><td>1973                </td><td> 33                 </td><td> 5036               </td><td> 47                 </td><td> 5761               </td><td>13                  </td><td>alternate           </td></tr>\n",
       "\t<tr><td> 6                                                              </td><td><span style=white-space:pre-wrap>Stein &amp; Aronson     </span></td><td>1953                                                            </td><td>180                                                             </td><td> 1361                                                           </td><td>372                                                             </td><td> 1079                                                           </td><td>44                                                              </td><td>alternate                                                       </td></tr>\n",
       "\t<tr><td> 7                  </td><td>Vandiviere et al    </td><td>1973                </td><td>  8                 </td><td> 2537               </td><td> 10                 </td><td>  619               </td><td>19                  </td><td>random              </td></tr>\n",
       "\t<tr><td> 8                  </td><td>TPT Madras          </td><td>1980                </td><td>505                 </td><td>87886               </td><td>499                 </td><td>87892               </td><td>13                  </td><td>random              </td></tr>\n",
       "\t<tr><td> 9                                                              </td><td><span style=white-space:pre-wrap>Coetzee &amp; Berjak    </span></td><td>1968                                                            </td><td> 29                                                             </td><td> 7470                                                           </td><td> 45                                                             </td><td> 7232                                                           </td><td>27                                                              </td><td><span style=white-space:pre-wrap>random    </span>              </td></tr>\n",
       "\t<tr><td>10                  </td><td>Rosenthal et al     </td><td>1961                </td><td> 17                 </td><td> 1699               </td><td> 65                 </td><td> 1600               </td><td>42                  </td><td>systematic          </td></tr>\n",
       "\t<tr><td>11                  </td><td>Comstock et al      </td><td>1974                </td><td>186                 </td><td>50448               </td><td>141                 </td><td>27197               </td><td>18                  </td><td>systematic          </td></tr>\n",
       "\t<tr><td>12                                                              </td><td><span style=white-space:pre-wrap>Comstock &amp; Webster  </span></td><td>1969                                                            </td><td><span style=white-space:pre-wrap>  5</span>                     </td><td> 2493                                                           </td><td><span style=white-space:pre-wrap>  3</span>                     </td><td> 2338                                                           </td><td>33                                                              </td><td>systematic                                                      </td></tr>\n",
       "\t<tr><td>13                  </td><td>Comstock et al      </td><td>1976                </td><td> 27                 </td><td>16886               </td><td> 29                 </td><td>17825               </td><td>33                  </td><td>systematic          </td></tr>\n",
       "</tbody>\n",
       "</table>\n"
      ],
      "text/latex": [
       "\\begin{tabular}{r|lllllllll}\n",
       " trial & author & year & tpos & tneg & cpos & cneg & ablat & alloc\\\\\n",
       "\\hline\n",
       "\t  1                   & Aronson              & 1948                 &   4                  &   119                &  11                  &   128                & 44                   & random              \\\\\n",
       "\t  2                     & Ferguson \\& Simes     & 1949                   &   6                    &   300                  &  29                    &   274                  & 55                     & random                \\\\\n",
       "\t  3                   & Rosenthal et al      & 1960                 &   3                  &   228                &  11                  &   209                & 42                   & random              \\\\\n",
       "\t  4                     & Hart \\& Sutherland    & 1977                   &  62                    & 13536                  & 248                    & 12619                  & 52                     & random                \\\\\n",
       "\t  5                   & Frimodt-Moller et al & 1973                 &  33                  &  5036                &  47                  &  5761                & 13                   & alternate           \\\\\n",
       "\t  6                     & Stein \\& Aronson      & 1953                   & 180                    &  1361                  & 372                    &  1079                  & 44                     & alternate             \\\\\n",
       "\t  7                   & Vandiviere et al     & 1973                 &   8                  &  2537                &  10                  &   619                & 19                   & random              \\\\\n",
       "\t  8                   & TPT Madras           & 1980                 & 505                  & 87886                & 499                  & 87892                & 13                   & random              \\\\\n",
       "\t  9                     & Coetzee \\& Berjak     & 1968                   &  29                    &  7470                  &  45                    &  7232                  & 27                     & random                \\\\\n",
       "\t 10                   & Rosenthal et al      & 1961                 &  17                  &  1699                &  65                  &  1600                & 42                   & systematic          \\\\\n",
       "\t 11                   & Comstock et al       & 1974                 & 186                  & 50448                & 141                  & 27197                & 18                   & systematic          \\\\\n",
       "\t 12                     & Comstock \\& Webster   & 1969                   &   5                    &  2493                  &   3                    &  2338                  & 33                     & systematic            \\\\\n",
       "\t 13                   & Comstock et al       & 1976                 &  27                  & 16886                &  29                  & 17825                & 33                   & systematic          \\\\\n",
       "\\end{tabular}\n"
      ],
      "text/markdown": [
       "\n",
       "trial | author | year | tpos | tneg | cpos | cneg | ablat | alloc | \n",
       "|---|---|---|---|---|---|---|---|---|---|---|---|---|\n",
       "|  1                   | Aronson              | 1948                 |   4                  |   119                |  11                  |   128                | 44                   | random               | \n",
       "|  2                   | Ferguson & Simes     | 1949                 |   6                  |   300                |  29                  |   274                | 55                   | random               | \n",
       "|  3                   | Rosenthal et al      | 1960                 |   3                  |   228                |  11                  |   209                | 42                   | random               | \n",
       "|  4                   | Hart & Sutherland    | 1977                 |  62                  | 13536                | 248                  | 12619                | 52                   | random               | \n",
       "|  5                   | Frimodt-Moller et al | 1973                 |  33                  |  5036                |  47                  |  5761                | 13                   | alternate            | \n",
       "|  6                   | Stein & Aronson      | 1953                 | 180                  |  1361                | 372                  |  1079                | 44                   | alternate            | \n",
       "|  7                   | Vandiviere et al     | 1973                 |   8                  |  2537                |  10                  |   619                | 19                   | random               | \n",
       "|  8                   | TPT Madras           | 1980                 | 505                  | 87886                | 499                  | 87892                | 13                   | random               | \n",
       "|  9                   | Coetzee & Berjak     | 1968                 |  29                  |  7470                |  45                  |  7232                | 27                   | random               | \n",
       "| 10                   | Rosenthal et al      | 1961                 |  17                  |  1699                |  65                  |  1600                | 42                   | systematic           | \n",
       "| 11                   | Comstock et al       | 1974                 | 186                  | 50448                | 141                  | 27197                | 18                   | systematic           | \n",
       "| 12                   | Comstock & Webster   | 1969                 |   5                  |  2493                |   3                  |  2338                | 33                   | systematic           | \n",
       "| 13                   | Comstock et al       | 1976                 |  27                  | 16886                |  29                  | 17825                | 33                   | systematic           | \n",
       "\n",
       "\n"
      ],
      "text/plain": [
       "   trial author               year tpos tneg  cpos cneg  ablat alloc     \n",
       "1   1    Aronson              1948   4    119  11    128 44    random    \n",
       "2   2    Ferguson & Simes     1949   6    300  29    274 55    random    \n",
       "3   3    Rosenthal et al      1960   3    228  11    209 42    random    \n",
       "4   4    Hart & Sutherland    1977  62  13536 248  12619 52    random    \n",
       "5   5    Frimodt-Moller et al 1973  33   5036  47   5761 13    alternate \n",
       "6   6    Stein & Aronson      1953 180   1361 372   1079 44    alternate \n",
       "7   7    Vandiviere et al     1973   8   2537  10    619 19    random    \n",
       "8   8    TPT Madras           1980 505  87886 499  87892 13    random    \n",
       "9   9    Coetzee & Berjak     1968  29   7470  45   7232 27    random    \n",
       "10 10    Rosenthal et al      1961  17   1699  65   1600 42    systematic\n",
       "11 11    Comstock et al       1974 186  50448 141  27197 18    systematic\n",
       "12 12    Comstock & Webster   1969   5   2493   3   2338 33    systematic\n",
       "13 13    Comstock et al       1976  27  16886  29  17825 33    systematic"
      ]
     },
     "metadata": {},
     "output_type": "display_data"
    }
   ],
   "source": [
    "## Solution.\n",
    "library(metafor)\n",
    "dat.bcg"
   ]
  },
  {
   "cell_type": "markdown",
   "metadata": {},
   "source": [
    "## Exercise: Understanding your data"
   ]
  },
  {
   "cell_type": "markdown",
   "metadata": {},
   "source": [
    "There exists multiple R functions that can help you understand the structure and nature of your data."
   ]
  },
  {
   "cell_type": "markdown",
   "metadata": {},
   "source": [
    "Use `head()` to print the first three cases:"
   ]
  },
  {
   "cell_type": "code",
   "execution_count": 4,
   "metadata": {},
   "outputs": [
    {
     "data": {
      "text/html": [
       "<table>\n",
       "<thead><tr><th scope=col>trial</th><th scope=col>author</th><th scope=col>year</th><th scope=col>tpos</th><th scope=col>tneg</th><th scope=col>cpos</th><th scope=col>cneg</th><th scope=col>ablat</th><th scope=col>alloc</th></tr></thead>\n",
       "<tbody>\n",
       "\t<tr><td>1               </td><td>Aronson         </td><td>1948            </td><td>4               </td><td>119             </td><td>11              </td><td>128             </td><td>44              </td><td>random          </td></tr>\n",
       "\t<tr><td>2                   </td><td>Ferguson &amp; Simes</td><td>1949                </td><td>6                   </td><td>300                 </td><td>29                  </td><td>274                 </td><td>55                  </td><td>random              </td></tr>\n",
       "\t<tr><td>3               </td><td>Rosenthal et al </td><td>1960            </td><td>3               </td><td>228             </td><td>11              </td><td>209             </td><td>42              </td><td>random          </td></tr>\n",
       "</tbody>\n",
       "</table>\n"
      ],
      "text/latex": [
       "\\begin{tabular}{r|lllllllll}\n",
       " trial & author & year & tpos & tneg & cpos & cneg & ablat & alloc\\\\\n",
       "\\hline\n",
       "\t 1                & Aronson          & 1948             & 4                & 119              & 11               & 128              & 44               & random          \\\\\n",
       "\t 2                  & Ferguson \\& Simes & 1949               & 6                  & 300                & 29                 & 274                & 55                 & random            \\\\\n",
       "\t 3                & Rosenthal et al  & 1960             & 3                & 228              & 11               & 209              & 42               & random          \\\\\n",
       "\\end{tabular}\n"
      ],
      "text/markdown": [
       "\n",
       "trial | author | year | tpos | tneg | cpos | cneg | ablat | alloc | \n",
       "|---|---|---|\n",
       "| 1                | Aronson          | 1948             | 4                | 119              | 11               | 128              | 44               | random           | \n",
       "| 2                | Ferguson & Simes | 1949             | 6                | 300              | 29               | 274              | 55               | random           | \n",
       "| 3                | Rosenthal et al  | 1960             | 3                | 228              | 11               | 209              | 42               | random           | \n",
       "\n",
       "\n"
      ],
      "text/plain": [
       "  trial author           year tpos tneg cpos cneg ablat alloc \n",
       "1 1     Aronson          1948 4    119  11   128  44    random\n",
       "2 2     Ferguson & Simes 1949 6    300  29   274  55    random\n",
       "3 3     Rosenthal et al  1960 3    228  11   209  42    random"
      ]
     },
     "metadata": {},
     "output_type": "display_data"
    }
   ],
   "source": [
    "## Solution.\n",
    "head(dat.bcg, n = 3)"
   ]
  },
  {
   "cell_type": "markdown",
   "metadata": {},
   "source": [
    "Use `names()` to print all variable names:"
   ]
  },
  {
   "cell_type": "code",
   "execution_count": 5,
   "metadata": {},
   "outputs": [
    {
     "data": {
      "text/html": [
       "<ol class=list-inline>\n",
       "\t<li>'trial'</li>\n",
       "\t<li>'author'</li>\n",
       "\t<li>'year'</li>\n",
       "\t<li>'tpos'</li>\n",
       "\t<li>'tneg'</li>\n",
       "\t<li>'cpos'</li>\n",
       "\t<li>'cneg'</li>\n",
       "\t<li>'ablat'</li>\n",
       "\t<li>'alloc'</li>\n",
       "</ol>\n"
      ],
      "text/latex": [
       "\\begin{enumerate*}\n",
       "\\item 'trial'\n",
       "\\item 'author'\n",
       "\\item 'year'\n",
       "\\item 'tpos'\n",
       "\\item 'tneg'\n",
       "\\item 'cpos'\n",
       "\\item 'cneg'\n",
       "\\item 'ablat'\n",
       "\\item 'alloc'\n",
       "\\end{enumerate*}\n"
      ],
      "text/markdown": [
       "1. 'trial'\n",
       "2. 'author'\n",
       "3. 'year'\n",
       "4. 'tpos'\n",
       "5. 'tneg'\n",
       "6. 'cpos'\n",
       "7. 'cneg'\n",
       "8. 'ablat'\n",
       "9. 'alloc'\n",
       "\n",
       "\n"
      ],
      "text/plain": [
       "[1] \"trial\"  \"author\" \"year\"   \"tpos\"   \"tneg\"   \"cpos\"   \"cneg\"   \"ablat\" \n",
       "[9] \"alloc\" "
      ]
     },
     "metadata": {},
     "output_type": "display_data"
    }
   ],
   "source": [
    "## Solution.\n",
    "names(dat.bcg)"
   ]
  },
  {
   "cell_type": "markdown",
   "metadata": {},
   "source": [
    "Use `dim()` to print the dimensions of the (data) object:"
   ]
  },
  {
   "cell_type": "code",
   "execution_count": 6,
   "metadata": {},
   "outputs": [
    {
     "data": {
      "text/html": [
       "<ol class=list-inline>\n",
       "\t<li>13</li>\n",
       "\t<li>9</li>\n",
       "</ol>\n"
      ],
      "text/latex": [
       "\\begin{enumerate*}\n",
       "\\item 13\n",
       "\\item 9\n",
       "\\end{enumerate*}\n"
      ],
      "text/markdown": [
       "1. 13\n",
       "2. 9\n",
       "\n",
       "\n"
      ],
      "text/plain": [
       "[1] 13  9"
      ]
     },
     "metadata": {},
     "output_type": "display_data"
    }
   ],
   "source": [
    "## Solution.\n",
    "dim(dat.bcg)"
   ]
  },
  {
   "cell_type": "markdown",
   "metadata": {},
   "source": [
    "Finally, use `str()` to display the structure of an R object. What does the output mean?"
   ]
  },
  {
   "cell_type": "code",
   "execution_count": 7,
   "metadata": {},
   "outputs": [
    {
     "name": "stdout",
     "output_type": "stream",
     "text": [
      "'data.frame':\t13 obs. of  9 variables:\n",
      " $ trial : int  1 2 3 4 5 6 7 8 9 10 ...\n",
      " $ author: chr  \"Aronson\" \"Ferguson & Simes\" \"Rosenthal et al\" \"Hart & Sutherland\" ...\n",
      " $ year  : int  1948 1949 1960 1977 1973 1953 1973 1980 1968 1961 ...\n",
      " $ tpos  : int  4 6 3 62 33 180 8 505 29 17 ...\n",
      " $ tneg  : int  119 300 228 13536 5036 1361 2537 87886 7470 1699 ...\n",
      " $ cpos  : int  11 29 11 248 47 372 10 499 45 65 ...\n",
      " $ cneg  : int  128 274 209 12619 5761 1079 619 87892 7232 1600 ...\n",
      " $ ablat : int  44 55 42 52 13 44 19 13 27 42 ...\n",
      " $ alloc : chr  \"random\" \"random\" \"random\" \"random\" ...\n"
     ]
    }
   ],
   "source": [
    "## Solution.\n",
    "str(dat.bcg)"
   ]
  },
  {
   "cell_type": "code",
   "execution_count": 8,
   "metadata": {},
   "outputs": [],
   "source": [
    "## This is a test... not sure that works on the server...\n",
    "## fix(dat.bcg)"
   ]
  },
  {
   "cell_type": "markdown",
   "metadata": {},
   "source": [
    "## Exercise: Indexing"
   ]
  },
  {
   "cell_type": "markdown",
   "metadata": {},
   "source": [
    "Indexing is probably one of the more difficult R concepts. For more information see the section on \"Handling of and accessing elements in data objects\" in our slides."
   ]
  },
  {
   "cell_type": "markdown",
   "metadata": {},
   "source": [
    "Again, let's load the `dat.bcg` dataset."
   ]
  },
  {
   "cell_type": "code",
   "execution_count": 9,
   "metadata": {},
   "outputs": [
    {
     "data": {
      "text/html": [
       "<table>\n",
       "<thead><tr><th scope=col>trial</th><th scope=col>author</th><th scope=col>year</th><th scope=col>tpos</th><th scope=col>tneg</th><th scope=col>cpos</th><th scope=col>cneg</th><th scope=col>ablat</th><th scope=col>alloc</th></tr></thead>\n",
       "<tbody>\n",
       "\t<tr><td> 1                  </td><td>Aronson             </td><td>1948                </td><td>  4                 </td><td>  119               </td><td> 11                 </td><td>  128               </td><td>44                  </td><td>random              </td></tr>\n",
       "\t<tr><td> 2                                                              </td><td><span style=white-space:pre-wrap>Ferguson &amp; Simes    </span></td><td>1949                                                            </td><td><span style=white-space:pre-wrap>  6</span>                     </td><td><span style=white-space:pre-wrap>  300</span>                   </td><td> 29                                                             </td><td><span style=white-space:pre-wrap>  274</span>                   </td><td>55                                                              </td><td><span style=white-space:pre-wrap>random    </span>              </td></tr>\n",
       "\t<tr><td> 3                  </td><td>Rosenthal et al     </td><td>1960                </td><td>  3                 </td><td>  228               </td><td> 11                 </td><td>  209               </td><td>42                  </td><td>random              </td></tr>\n",
       "\t<tr><td> 4                                                              </td><td><span style=white-space:pre-wrap>Hart &amp; Sutherland   </span></td><td>1977                                                            </td><td> 62                                                             </td><td>13536                                                           </td><td>248                                                             </td><td>12619                                                           </td><td>52                                                              </td><td><span style=white-space:pre-wrap>random    </span>              </td></tr>\n",
       "\t<tr><td> 5                  </td><td>Frimodt-Moller et al</td><td>1973                </td><td> 33                 </td><td> 5036               </td><td> 47                 </td><td> 5761               </td><td>13                  </td><td>alternate           </td></tr>\n",
       "\t<tr><td> 6                                                              </td><td><span style=white-space:pre-wrap>Stein &amp; Aronson     </span></td><td>1953                                                            </td><td>180                                                             </td><td> 1361                                                           </td><td>372                                                             </td><td> 1079                                                           </td><td>44                                                              </td><td>alternate                                                       </td></tr>\n",
       "\t<tr><td> 7                  </td><td>Vandiviere et al    </td><td>1973                </td><td>  8                 </td><td> 2537               </td><td> 10                 </td><td>  619               </td><td>19                  </td><td>random              </td></tr>\n",
       "\t<tr><td> 8                  </td><td>TPT Madras          </td><td>1980                </td><td>505                 </td><td>87886               </td><td>499                 </td><td>87892               </td><td>13                  </td><td>random              </td></tr>\n",
       "\t<tr><td> 9                                                              </td><td><span style=white-space:pre-wrap>Coetzee &amp; Berjak    </span></td><td>1968                                                            </td><td> 29                                                             </td><td> 7470                                                           </td><td> 45                                                             </td><td> 7232                                                           </td><td>27                                                              </td><td><span style=white-space:pre-wrap>random    </span>              </td></tr>\n",
       "\t<tr><td>10                  </td><td>Rosenthal et al     </td><td>1961                </td><td> 17                 </td><td> 1699               </td><td> 65                 </td><td> 1600               </td><td>42                  </td><td>systematic          </td></tr>\n",
       "\t<tr><td>11                  </td><td>Comstock et al      </td><td>1974                </td><td>186                 </td><td>50448               </td><td>141                 </td><td>27197               </td><td>18                  </td><td>systematic          </td></tr>\n",
       "\t<tr><td>12                                                              </td><td><span style=white-space:pre-wrap>Comstock &amp; Webster  </span></td><td>1969                                                            </td><td><span style=white-space:pre-wrap>  5</span>                     </td><td> 2493                                                           </td><td><span style=white-space:pre-wrap>  3</span>                     </td><td> 2338                                                           </td><td>33                                                              </td><td>systematic                                                      </td></tr>\n",
       "\t<tr><td>13                  </td><td>Comstock et al      </td><td>1976                </td><td> 27                 </td><td>16886               </td><td> 29                 </td><td>17825               </td><td>33                  </td><td>systematic          </td></tr>\n",
       "</tbody>\n",
       "</table>\n"
      ],
      "text/latex": [
       "\\begin{tabular}{r|lllllllll}\n",
       " trial & author & year & tpos & tneg & cpos & cneg & ablat & alloc\\\\\n",
       "\\hline\n",
       "\t  1                   & Aronson              & 1948                 &   4                  &   119                &  11                  &   128                & 44                   & random              \\\\\n",
       "\t  2                     & Ferguson \\& Simes     & 1949                   &   6                    &   300                  &  29                    &   274                  & 55                     & random                \\\\\n",
       "\t  3                   & Rosenthal et al      & 1960                 &   3                  &   228                &  11                  &   209                & 42                   & random              \\\\\n",
       "\t  4                     & Hart \\& Sutherland    & 1977                   &  62                    & 13536                  & 248                    & 12619                  & 52                     & random                \\\\\n",
       "\t  5                   & Frimodt-Moller et al & 1973                 &  33                  &  5036                &  47                  &  5761                & 13                   & alternate           \\\\\n",
       "\t  6                     & Stein \\& Aronson      & 1953                   & 180                    &  1361                  & 372                    &  1079                  & 44                     & alternate             \\\\\n",
       "\t  7                   & Vandiviere et al     & 1973                 &   8                  &  2537                &  10                  &   619                & 19                   & random              \\\\\n",
       "\t  8                   & TPT Madras           & 1980                 & 505                  & 87886                & 499                  & 87892                & 13                   & random              \\\\\n",
       "\t  9                     & Coetzee \\& Berjak     & 1968                   &  29                    &  7470                  &  45                    &  7232                  & 27                     & random                \\\\\n",
       "\t 10                   & Rosenthal et al      & 1961                 &  17                  &  1699                &  65                  &  1600                & 42                   & systematic          \\\\\n",
       "\t 11                   & Comstock et al       & 1974                 & 186                  & 50448                & 141                  & 27197                & 18                   & systematic          \\\\\n",
       "\t 12                     & Comstock \\& Webster   & 1969                   &   5                    &  2493                  &   3                    &  2338                  & 33                     & systematic            \\\\\n",
       "\t 13                   & Comstock et al       & 1976                 &  27                  & 16886                &  29                  & 17825                & 33                   & systematic          \\\\\n",
       "\\end{tabular}\n"
      ],
      "text/markdown": [
       "\n",
       "trial | author | year | tpos | tneg | cpos | cneg | ablat | alloc | \n",
       "|---|---|---|---|---|---|---|---|---|---|---|---|---|\n",
       "|  1                   | Aronson              | 1948                 |   4                  |   119                |  11                  |   128                | 44                   | random               | \n",
       "|  2                   | Ferguson & Simes     | 1949                 |   6                  |   300                |  29                  |   274                | 55                   | random               | \n",
       "|  3                   | Rosenthal et al      | 1960                 |   3                  |   228                |  11                  |   209                | 42                   | random               | \n",
       "|  4                   | Hart & Sutherland    | 1977                 |  62                  | 13536                | 248                  | 12619                | 52                   | random               | \n",
       "|  5                   | Frimodt-Moller et al | 1973                 |  33                  |  5036                |  47                  |  5761                | 13                   | alternate            | \n",
       "|  6                   | Stein & Aronson      | 1953                 | 180                  |  1361                | 372                  |  1079                | 44                   | alternate            | \n",
       "|  7                   | Vandiviere et al     | 1973                 |   8                  |  2537                |  10                  |   619                | 19                   | random               | \n",
       "|  8                   | TPT Madras           | 1980                 | 505                  | 87886                | 499                  | 87892                | 13                   | random               | \n",
       "|  9                   | Coetzee & Berjak     | 1968                 |  29                  |  7470                |  45                  |  7232                | 27                   | random               | \n",
       "| 10                   | Rosenthal et al      | 1961                 |  17                  |  1699                |  65                  |  1600                | 42                   | systematic           | \n",
       "| 11                   | Comstock et al       | 1974                 | 186                  | 50448                | 141                  | 27197                | 18                   | systematic           | \n",
       "| 12                   | Comstock & Webster   | 1969                 |   5                  |  2493                |   3                  |  2338                | 33                   | systematic           | \n",
       "| 13                   | Comstock et al       | 1976                 |  27                  | 16886                |  29                  | 17825                | 33                   | systematic           | \n",
       "\n",
       "\n"
      ],
      "text/plain": [
       "   trial author               year tpos tneg  cpos cneg  ablat alloc     \n",
       "1   1    Aronson              1948   4    119  11    128 44    random    \n",
       "2   2    Ferguson & Simes     1949   6    300  29    274 55    random    \n",
       "3   3    Rosenthal et al      1960   3    228  11    209 42    random    \n",
       "4   4    Hart & Sutherland    1977  62  13536 248  12619 52    random    \n",
       "5   5    Frimodt-Moller et al 1973  33   5036  47   5761 13    alternate \n",
       "6   6    Stein & Aronson      1953 180   1361 372   1079 44    alternate \n",
       "7   7    Vandiviere et al     1973   8   2537  10    619 19    random    \n",
       "8   8    TPT Madras           1980 505  87886 499  87892 13    random    \n",
       "9   9    Coetzee & Berjak     1968  29   7470  45   7232 27    random    \n",
       "10 10    Rosenthal et al      1961  17   1699  65   1600 42    systematic\n",
       "11 11    Comstock et al       1974 186  50448 141  27197 18    systematic\n",
       "12 12    Comstock & Webster   1969   5   2493   3   2338 33    systematic\n",
       "13 13    Comstock et al       1976  27  16886  29  17825 33    systematic"
      ]
     },
     "metadata": {},
     "output_type": "display_data"
    }
   ],
   "source": [
    "## Solution.\n",
    "library(metafor)\n",
    "dat.bcg"
   ]
  },
  {
   "cell_type": "markdown",
   "metadata": {},
   "source": [
    "Print out the first column (called `trial`) using the `$` notation:"
   ]
  },
  {
   "cell_type": "code",
   "execution_count": 10,
   "metadata": {},
   "outputs": [
    {
     "data": {
      "text/html": [
       "<ol class=list-inline>\n",
       "\t<li>1</li>\n",
       "\t<li>2</li>\n",
       "\t<li>3</li>\n",
       "\t<li>4</li>\n",
       "\t<li>5</li>\n",
       "\t<li>6</li>\n",
       "\t<li>7</li>\n",
       "\t<li>8</li>\n",
       "\t<li>9</li>\n",
       "\t<li>10</li>\n",
       "\t<li>11</li>\n",
       "\t<li>12</li>\n",
       "\t<li>13</li>\n",
       "</ol>\n"
      ],
      "text/latex": [
       "\\begin{enumerate*}\n",
       "\\item 1\n",
       "\\item 2\n",
       "\\item 3\n",
       "\\item 4\n",
       "\\item 5\n",
       "\\item 6\n",
       "\\item 7\n",
       "\\item 8\n",
       "\\item 9\n",
       "\\item 10\n",
       "\\item 11\n",
       "\\item 12\n",
       "\\item 13\n",
       "\\end{enumerate*}\n"
      ],
      "text/markdown": [
       "1. 1\n",
       "2. 2\n",
       "3. 3\n",
       "4. 4\n",
       "5. 5\n",
       "6. 6\n",
       "7. 7\n",
       "8. 8\n",
       "9. 9\n",
       "10. 10\n",
       "11. 11\n",
       "12. 12\n",
       "13. 13\n",
       "\n",
       "\n"
      ],
      "text/plain": [
       " [1]  1  2  3  4  5  6  7  8  9 10 11 12 13"
      ]
     },
     "metadata": {},
     "output_type": "display_data"
    }
   ],
   "source": [
    "## Solution.\n",
    "dat.bcg$trial"
   ]
  },
  {
   "cell_type": "markdown",
   "metadata": {},
   "source": [
    "Print out the first column (called `trial`) using the `[]` notation:"
   ]
  },
  {
   "cell_type": "code",
   "execution_count": 11,
   "metadata": {},
   "outputs": [
    {
     "data": {
      "text/html": [
       "<ol class=list-inline>\n",
       "\t<li>1</li>\n",
       "\t<li>2</li>\n",
       "\t<li>3</li>\n",
       "\t<li>4</li>\n",
       "\t<li>5</li>\n",
       "\t<li>6</li>\n",
       "\t<li>7</li>\n",
       "\t<li>8</li>\n",
       "\t<li>9</li>\n",
       "\t<li>10</li>\n",
       "\t<li>11</li>\n",
       "\t<li>12</li>\n",
       "\t<li>13</li>\n",
       "</ol>\n"
      ],
      "text/latex": [
       "\\begin{enumerate*}\n",
       "\\item 1\n",
       "\\item 2\n",
       "\\item 3\n",
       "\\item 4\n",
       "\\item 5\n",
       "\\item 6\n",
       "\\item 7\n",
       "\\item 8\n",
       "\\item 9\n",
       "\\item 10\n",
       "\\item 11\n",
       "\\item 12\n",
       "\\item 13\n",
       "\\end{enumerate*}\n"
      ],
      "text/markdown": [
       "1. 1\n",
       "2. 2\n",
       "3. 3\n",
       "4. 4\n",
       "5. 5\n",
       "6. 6\n",
       "7. 7\n",
       "8. 8\n",
       "9. 9\n",
       "10. 10\n",
       "11. 11\n",
       "12. 12\n",
       "13. 13\n",
       "\n",
       "\n"
      ],
      "text/plain": [
       " [1]  1  2  3  4  5  6  7  8  9 10 11 12 13"
      ]
     },
     "metadata": {},
     "output_type": "display_data"
    }
   ],
   "source": [
    "## Solution.\n",
    "dat.bcg[, \"trial\"]"
   ]
  },
  {
   "cell_type": "markdown",
   "metadata": {},
   "source": [
    "Print out the first row/line/case using the `[]` notation:"
   ]
  },
  {
   "cell_type": "code",
   "execution_count": 12,
   "metadata": {},
   "outputs": [
    {
     "data": {
      "text/html": [
       "<table>\n",
       "<thead><tr><th scope=col>trial</th><th scope=col>author</th><th scope=col>year</th><th scope=col>tpos</th><th scope=col>tneg</th><th scope=col>cpos</th><th scope=col>cneg</th><th scope=col>ablat</th><th scope=col>alloc</th></tr></thead>\n",
       "<tbody>\n",
       "\t<tr><td>1      </td><td>Aronson</td><td>1948   </td><td>4      </td><td>119    </td><td>11     </td><td>128    </td><td>44     </td><td>random </td></tr>\n",
       "</tbody>\n",
       "</table>\n"
      ],
      "text/latex": [
       "\\begin{tabular}{r|lllllllll}\n",
       " trial & author & year & tpos & tneg & cpos & cneg & ablat & alloc\\\\\n",
       "\\hline\n",
       "\t 1       & Aronson & 1948    & 4       & 119     & 11      & 128     & 44      & random \\\\\n",
       "\\end{tabular}\n"
      ],
      "text/markdown": [
       "\n",
       "trial | author | year | tpos | tneg | cpos | cneg | ablat | alloc | \n",
       "|---|\n",
       "| 1       | Aronson | 1948    | 4       | 119     | 11      | 128     | 44      | random  | \n",
       "\n",
       "\n"
      ],
      "text/plain": [
       "  trial author  year tpos tneg cpos cneg ablat alloc \n",
       "1 1     Aronson 1948 4    119  11   128  44    random"
      ]
     },
     "metadata": {},
     "output_type": "display_data"
    }
   ],
   "source": [
    "## Solution.\n",
    "dat.bcg[1, ]"
   ]
  },
  {
   "cell_type": "markdown",
   "metadata": {},
   "source": [
    "Print out the data for authors `Stein & Aronson`: "
   ]
  },
  {
   "cell_type": "code",
   "execution_count": 13,
   "metadata": {},
   "outputs": [
    {
     "data": {
      "text/html": [
       "<table>\n",
       "<thead><tr><th></th><th scope=col>trial</th><th scope=col>author</th><th scope=col>year</th><th scope=col>tpos</th><th scope=col>tneg</th><th scope=col>cpos</th><th scope=col>cneg</th><th scope=col>ablat</th><th scope=col>alloc</th></tr></thead>\n",
       "<tbody>\n",
       "\t<tr><th scope=row>6</th><td>6                  </td><td>Stein &amp; Aronson</td><td>1953               </td><td>180                </td><td>1361               </td><td>372                </td><td>1079               </td><td>44                 </td><td>alternate          </td></tr>\n",
       "</tbody>\n",
       "</table>\n"
      ],
      "text/latex": [
       "\\begin{tabular}{r|lllllllll}\n",
       "  & trial & author & year & tpos & tneg & cpos & cneg & ablat & alloc\\\\\n",
       "\\hline\n",
       "\t6 & 6                 & Stein \\& Aronson & 1953              & 180               & 1361              & 372               & 1079              & 44                & alternate        \\\\\n",
       "\\end{tabular}\n"
      ],
      "text/markdown": [
       "\n",
       "| <!--/--> | trial | author | year | tpos | tneg | cpos | cneg | ablat | alloc | \n",
       "|---|\n",
       "| 6 | 6               | Stein & Aronson | 1953            | 180             | 1361            | 372             | 1079            | 44              | alternate       | \n",
       "\n",
       "\n"
      ],
      "text/plain": [
       "  trial author          year tpos tneg cpos cneg ablat alloc    \n",
       "6 6     Stein & Aronson 1953 180  1361 372  1079 44    alternate"
      ]
     },
     "metadata": {},
     "output_type": "display_data"
    }
   ],
   "source": [
    "## Solution.\n",
    "dat.bcg[dat.bcg$author == \"Stein & Aronson\", ]"
   ]
  },
  {
   "cell_type": "markdown",
   "metadata": {},
   "source": [
    "Print out the data for studies that were conducted 1970 or later:"
   ]
  },
  {
   "cell_type": "code",
   "execution_count": 14,
   "metadata": {},
   "outputs": [
    {
     "data": {
      "text/html": [
       "<table>\n",
       "<thead><tr><th></th><th scope=col>trial</th><th scope=col>author</th><th scope=col>year</th><th scope=col>tpos</th><th scope=col>tneg</th><th scope=col>cpos</th><th scope=col>cneg</th><th scope=col>ablat</th><th scope=col>alloc</th></tr></thead>\n",
       "<tbody>\n",
       "\t<tr><th scope=row>4</th><td> 4                                                              </td><td><span style=white-space:pre-wrap>Hart &amp; Sutherland   </span></td><td>1977                                                            </td><td> 62                                                             </td><td>13536                                                           </td><td>248                                                             </td><td>12619                                                           </td><td>52                                                              </td><td><span style=white-space:pre-wrap>random    </span>              </td></tr>\n",
       "\t<tr><th scope=row>5</th><td> 5                  </td><td>Frimodt-Moller et al</td><td>1973                </td><td> 33                 </td><td> 5036               </td><td> 47                 </td><td> 5761               </td><td>13                  </td><td>alternate           </td></tr>\n",
       "\t<tr><th scope=row>7</th><td> 7                  </td><td>Vandiviere et al    </td><td>1973                </td><td>  8                 </td><td> 2537               </td><td> 10                 </td><td>  619               </td><td>19                  </td><td>random              </td></tr>\n",
       "\t<tr><th scope=row>8</th><td> 8                  </td><td>TPT Madras          </td><td>1980                </td><td>505                 </td><td>87886               </td><td>499                 </td><td>87892               </td><td>13                  </td><td>random              </td></tr>\n",
       "\t<tr><th scope=row>11</th><td>11                  </td><td>Comstock et al      </td><td>1974                </td><td>186                 </td><td>50448               </td><td>141                 </td><td>27197               </td><td>18                  </td><td>systematic          </td></tr>\n",
       "\t<tr><th scope=row>13</th><td>13                  </td><td>Comstock et al      </td><td>1976                </td><td> 27                 </td><td>16886               </td><td> 29                 </td><td>17825               </td><td>33                  </td><td>systematic          </td></tr>\n",
       "</tbody>\n",
       "</table>\n"
      ],
      "text/latex": [
       "\\begin{tabular}{r|lllllllll}\n",
       "  & trial & author & year & tpos & tneg & cpos & cneg & ablat & alloc\\\\\n",
       "\\hline\n",
       "\t4 &  4                     & Hart \\& Sutherland    & 1977                   &  62                    & 13536                  & 248                    & 12619                  & 52                     & random                \\\\\n",
       "\t5 &  5                   & Frimodt-Moller et al & 1973                 &  33                  &  5036                &  47                  &  5761                & 13                   & alternate           \\\\\n",
       "\t7 &  7                   & Vandiviere et al     & 1973                 &   8                  &  2537                &  10                  &   619                & 19                   & random              \\\\\n",
       "\t8 &  8                   & TPT Madras           & 1980                 & 505                  & 87886                & 499                  & 87892                & 13                   & random              \\\\\n",
       "\t11 & 11                   & Comstock et al       & 1974                 & 186                  & 50448                & 141                  & 27197                & 18                   & systematic          \\\\\n",
       "\t13 & 13                   & Comstock et al       & 1976                 &  27                  & 16886                &  29                  & 17825                & 33                   & systematic          \\\\\n",
       "\\end{tabular}\n"
      ],
      "text/markdown": [
       "\n",
       "| <!--/--> | trial | author | year | tpos | tneg | cpos | cneg | ablat | alloc | \n",
       "|---|---|---|---|---|---|\n",
       "| 4 |  4                   | Hart & Sutherland    | 1977                 |  62                  | 13536                | 248                  | 12619                | 52                   | random               | \n",
       "| 5 |  5                   | Frimodt-Moller et al | 1973                 |  33                  |  5036                |  47                  |  5761                | 13                   | alternate            | \n",
       "| 7 |  7                   | Vandiviere et al     | 1973                 |   8                  |  2537                |  10                  |   619                | 19                   | random               | \n",
       "| 8 |  8                   | TPT Madras           | 1980                 | 505                  | 87886                | 499                  | 87892                | 13                   | random               | \n",
       "| 11 | 11                   | Comstock et al       | 1974                 | 186                  | 50448                | 141                  | 27197                | 18                   | systematic           | \n",
       "| 13 | 13                   | Comstock et al       | 1976                 |  27                  | 16886                |  29                  | 17825                | 33                   | systematic           | \n",
       "\n",
       "\n"
      ],
      "text/plain": [
       "   trial author               year tpos tneg  cpos cneg  ablat alloc     \n",
       "4   4    Hart & Sutherland    1977  62  13536 248  12619 52    random    \n",
       "5   5    Frimodt-Moller et al 1973  33   5036  47   5761 13    alternate \n",
       "7   7    Vandiviere et al     1973   8   2537  10    619 19    random    \n",
       "8   8    TPT Madras           1980 505  87886 499  87892 13    random    \n",
       "11 11    Comstock et al       1974 186  50448 141  27197 18    systematic\n",
       "13 13    Comstock et al       1976  27  16886  29  17825 33    systematic"
      ]
     },
     "metadata": {},
     "output_type": "display_data"
    }
   ],
   "source": [
    "## Solution.\n",
    "dat.bcg[dat.bcg$year >= 1970, ]"
   ]
  },
  {
   "cell_type": "markdown",
   "metadata": {},
   "source": [
    "Select all studies that conducted before 1970 and count the number of those studies. "
   ]
  },
  {
   "cell_type": "code",
   "execution_count": 15,
   "metadata": {},
   "outputs": [
    {
     "data": {
      "text/html": [
       "<ol class=list-inline>\n",
       "\t<li>7</li>\n",
       "\t<li>9</li>\n",
       "</ol>\n"
      ],
      "text/latex": [
       "\\begin{enumerate*}\n",
       "\\item 7\n",
       "\\item 9\n",
       "\\end{enumerate*}\n"
      ],
      "text/markdown": [
       "1. 7\n",
       "2. 9\n",
       "\n",
       "\n"
      ],
      "text/plain": [
       "[1] 7 9"
      ]
     },
     "metadata": {},
     "output_type": "display_data"
    },
    {
     "data": {
      "text/html": [
       "7"
      ],
      "text/latex": [
       "7"
      ],
      "text/markdown": [
       "7"
      ],
      "text/plain": [
       "[1] 7"
      ]
     },
     "metadata": {},
     "output_type": "display_data"
    }
   ],
   "source": [
    "## Solution.\n",
    "dat.bcg_bf1970 <- dat.bcg[dat.bcg$year < 1970, ]\n",
    "dim(dat.bcg_bf1970) ## number of rows/cases and number of columns\n",
    "nrow(dat.bcg_bf1970)"
   ]
  },
  {
   "cell_type": "markdown",
   "metadata": {},
   "source": [
    "Print out the data for studies conducted after 1970 and that observe at least 100 `tpos`. Pleae note that there exists multiple solutions. Also note that the following solutions are not equivalent when the data contains missing data (`NA`)."
   ]
  },
  {
   "cell_type": "code",
   "execution_count": 16,
   "metadata": {},
   "outputs": [
    {
     "data": {
      "text/html": [
       "<table>\n",
       "<thead><tr><th></th><th scope=col>trial</th><th scope=col>author</th><th scope=col>year</th><th scope=col>tpos</th><th scope=col>tneg</th><th scope=col>cpos</th><th scope=col>cneg</th><th scope=col>ablat</th><th scope=col>alloc</th></tr></thead>\n",
       "<tbody>\n",
       "\t<tr><th scope=row>8</th><td> 8            </td><td>TPT Madras    </td><td>1980          </td><td>505           </td><td>87886         </td><td>499           </td><td>87892         </td><td>13            </td><td>random        </td></tr>\n",
       "\t<tr><th scope=row>11</th><td>11            </td><td>Comstock et al</td><td>1974          </td><td>186           </td><td>50448         </td><td>141           </td><td>27197         </td><td>18            </td><td>systematic    </td></tr>\n",
       "</tbody>\n",
       "</table>\n"
      ],
      "text/latex": [
       "\\begin{tabular}{r|lllllllll}\n",
       "  & trial & author & year & tpos & tneg & cpos & cneg & ablat & alloc\\\\\n",
       "\\hline\n",
       "\t8 &  8             & TPT Madras     & 1980           & 505            & 87886          & 499            & 87892          & 13             & random        \\\\\n",
       "\t11 & 11             & Comstock et al & 1974           & 186            & 50448          & 141            & 27197          & 18             & systematic    \\\\\n",
       "\\end{tabular}\n"
      ],
      "text/markdown": [
       "\n",
       "| <!--/--> | trial | author | year | tpos | tneg | cpos | cneg | ablat | alloc | \n",
       "|---|---|\n",
       "| 8 |  8             | TPT Madras     | 1980           | 505            | 87886          | 499            | 87892          | 13             | random         | \n",
       "| 11 | 11             | Comstock et al | 1974           | 186            | 50448          | 141            | 27197          | 18             | systematic     | \n",
       "\n",
       "\n"
      ],
      "text/plain": [
       "   trial author         year tpos tneg  cpos cneg  ablat alloc     \n",
       "8   8    TPT Madras     1980 505  87886 499  87892 13    random    \n",
       "11 11    Comstock et al 1974 186  50448 141  27197 18    systematic"
      ]
     },
     "metadata": {},
     "output_type": "display_data"
    }
   ],
   "source": [
    "## Solution.\n",
    "dat.bcg[dat.bcg$year > 1970 & dat.bcg$tpos >= 100, ]"
   ]
  },
  {
   "cell_type": "code",
   "execution_count": 17,
   "metadata": {},
   "outputs": [
    {
     "data": {
      "text/html": [
       "<table>\n",
       "<thead><tr><th></th><th scope=col>trial</th><th scope=col>author</th><th scope=col>year</th><th scope=col>tpos</th><th scope=col>tneg</th><th scope=col>cpos</th><th scope=col>cneg</th><th scope=col>ablat</th><th scope=col>alloc</th></tr></thead>\n",
       "<tbody>\n",
       "\t<tr><th scope=row>8</th><td> 8            </td><td>TPT Madras    </td><td>1980          </td><td>505           </td><td>87886         </td><td>499           </td><td>87892         </td><td>13            </td><td>random        </td></tr>\n",
       "\t<tr><th scope=row>11</th><td>11            </td><td>Comstock et al</td><td>1974          </td><td>186           </td><td>50448         </td><td>141           </td><td>27197         </td><td>18            </td><td>systematic    </td></tr>\n",
       "</tbody>\n",
       "</table>\n"
      ],
      "text/latex": [
       "\\begin{tabular}{r|lllllllll}\n",
       "  & trial & author & year & tpos & tneg & cpos & cneg & ablat & alloc\\\\\n",
       "\\hline\n",
       "\t8 &  8             & TPT Madras     & 1980           & 505            & 87886          & 499            & 87892          & 13             & random        \\\\\n",
       "\t11 & 11             & Comstock et al & 1974           & 186            & 50448          & 141            & 27197          & 18             & systematic    \\\\\n",
       "\\end{tabular}\n"
      ],
      "text/markdown": [
       "\n",
       "| <!--/--> | trial | author | year | tpos | tneg | cpos | cneg | ablat | alloc | \n",
       "|---|---|\n",
       "| 8 |  8             | TPT Madras     | 1980           | 505            | 87886          | 499            | 87892          | 13             | random         | \n",
       "| 11 | 11             | Comstock et al | 1974           | 186            | 50448          | 141            | 27197          | 18             | systematic     | \n",
       "\n",
       "\n"
      ],
      "text/plain": [
       "   trial author         year tpos tneg  cpos cneg  ablat alloc     \n",
       "8   8    TPT Madras     1980 505  87886 499  87892 13    random    \n",
       "11 11    Comstock et al 1974 186  50448 141  27197 18    systematic"
      ]
     },
     "metadata": {},
     "output_type": "display_data"
    }
   ],
   "source": [
    "## Solution.\n",
    "subset(dat.bcg, year > 1970 & tpos >= 100)"
   ]
  },
  {
   "cell_type": "markdown",
   "metadata": {},
   "source": [
    "## More exercises needed?"
   ]
  },
  {
   "cell_type": "markdown",
   "metadata": {},
   "source": [
    "Do you need more exercises or explanations?"
   ]
  }
 ],
 "metadata": {
  "kernelspec": {
   "display_name": "R",
   "language": "R",
   "name": "ir"
  },
  "language_info": {
   "codemirror_mode": "r",
   "file_extension": ".r",
   "mimetype": "text/x-r-source",
   "name": "R",
   "pygments_lexer": "r",
   "version": "3.6.1"
  },
  "toc": {
   "base_numbering": 1,
   "nav_menu": {},
   "number_sections": true,
   "sideBar": true,
   "skip_h1_title": false,
   "title_cell": "Table of Contents",
   "title_sidebar": "Contents",
   "toc_cell": true,
   "toc_position": {},
   "toc_section_display": true,
   "toc_window_display": true
  }
 },
 "nbformat": 4,
 "nbformat_minor": 2
}
