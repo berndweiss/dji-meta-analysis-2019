{
 "cells": [
  {
   "cell_type": "markdown",
   "metadata": {},
   "source": [
    "<h1>A two-day workshop at the DJI, Munich 2019:<br> Meta-Analysis in Social Research<span class=\"tocSkip\"></span></h1>"
   ]
  },
  {
   "cell_type": "markdown",
   "metadata": {
    "toc": true
   },
   "source": [
    "<h1>Table of Contents<span class=\"tocSkip\"></span></h1>\n",
    "<div class=\"toc\"><ul class=\"toc-item\"><li><span><a href=\"#Preliminaries\" data-toc-modified-id=\"Preliminaries-1\"><span class=\"toc-item-num\">1&nbsp;&nbsp;</span>Preliminaries</a></span></li><li><span><a href=\"#Exercise\" data-toc-modified-id=\"Exercise-2\"><span class=\"toc-item-num\">2&nbsp;&nbsp;</span>Exercise</a></span></li><li><span><a href=\"#Exercise\" data-toc-modified-id=\"Exercise-3\"><span class=\"toc-item-num\">3&nbsp;&nbsp;</span>Exercise</a></span></li><li><span><a href=\"#Exercise\" data-toc-modified-id=\"Exercise-4\"><span class=\"toc-item-num\">4&nbsp;&nbsp;</span>Exercise</a></span></li><li><span><a href=\"#Exercise*\" data-toc-modified-id=\"Exercise*-5\"><span class=\"toc-item-num\">5&nbsp;&nbsp;</span>Exercise*</a></span></li><li><span><a href=\"#Exercise\" data-toc-modified-id=\"Exercise-6\"><span class=\"toc-item-num\">6&nbsp;&nbsp;</span>Exercise</a></span></li></ul></div>"
   ]
  },
  {
   "cell_type": "markdown",
   "metadata": {},
   "source": [
    "## Preliminaries"
   ]
  },
  {
   "cell_type": "markdown",
   "metadata": {},
   "source": [
    "Please do not touch anything in this section, otherwise this notebook might not work properly. You have been warned! Also, if you have no clue what you are staring at, please consult our [Preface chapter](1-1_preface.ipynb)."
   ]
  },
  {
   "cell_type": "code",
   "execution_count": 2,
   "metadata": {},
   "outputs": [],
   "source": [
    "## source(\"run_me_first.R\")"
   ]
  },
  {
   "cell_type": "markdown",
   "metadata": {},
   "source": [
    "## Exercise"
   ]
  },
  {
   "cell_type": "markdown",
   "metadata": {},
   "source": [
    "The first step when investigating publication bias is a visual inspection of the effect-size distribution by means of a funnel plot. In `metafor`, the function to draw a funnel plot is called `funnel(x)`, where `x` represents an `rma` object."
   ]
  },
  {
   "cell_type": "markdown",
   "metadata": {},
   "source": [
    "Tip: Which model of summarizing a effect-size distribution do you choose to run the rma function?"
   ]
  },
  {
   "cell_type": "code",
   "execution_count": 3,
   "metadata": {},
   "outputs": [],
   "source": [
    "## Please insert your solution here. Of course, feel free to add new code cells."
   ]
  },
  {
   "cell_type": "markdown",
   "metadata": {},
   "source": [
    "## Exercise"
   ]
  },
  {
   "cell_type": "markdown",
   "metadata": {},
   "source": [
    "The next step is to run a so-called Egger’s regression test, which was covered in the section on “Correlational\n",
    "and regression approaches”."
   ]
  },
  {
   "cell_type": "markdown",
   "metadata": {},
   "source": [
    "Despite the fact that the `metafor` package provides a ready-to-use function called `regtest()`, we will start by using a simple regression model. In R, the linear model can be estimated using the `lm(y ~ x, data = ...)` function (see also the Monday exercises). "
   ]
  },
  {
   "cell_type": "markdown",
   "metadata": {},
   "source": [
    "Tip: You might want to recall that you have to convert the effect sizes to the so-called “standard normal\n",
    "deviate (SND)”. The precision is defined as 1/SE i "
   ]
  },
  {
   "cell_type": "code",
   "execution_count": 4,
   "metadata": {},
   "outputs": [],
   "source": [
    "## Please insert your solution here. Of course, feel free to add new code cells."
   ]
  },
  {
   "cell_type": "markdown",
   "metadata": {},
   "source": [
    "## Exercise"
   ]
  },
  {
   "cell_type": "markdown",
   "metadata": {},
   "source": [
    "Now you can apply the `metafor` function `regtest()` to replicate the results from the previous exercise. This time, you are on your own in finding out how the function `regtest()` works. Use the help files `?regtest.rma`."
   ]
  },
  {
   "cell_type": "code",
   "execution_count": 5,
   "metadata": {},
   "outputs": [],
   "source": [
    "## Please insert your solution here. Of course, feel free to add new code cells."
   ]
  },
  {
   "cell_type": "markdown",
   "metadata": {},
   "source": [
    "## Exercise*"
   ]
  },
  {
   "cell_type": "markdown",
   "metadata": {},
   "source": [
    "Now we want you to show how to actually plot the regression line and the corresponding 95% confidence intervals. Just relax and enjoy the show ..."
   ]
  },
  {
   "cell_type": "code",
   "execution_count": 6,
   "metadata": {},
   "outputs": [
    {
     "data": {
      "text/plain": [
       "\n",
       "Call:\n",
       "lm(formula = snd ~ prec, data = dER)\n",
       "\n",
       "Residuals:\n",
       "    Min      1Q  Median      3Q     Max \n",
       "-6.7290 -1.0492  0.7798  1.9944  5.3354 \n",
       "\n",
       "Coefficients:\n",
       "            Estimate Std. Error t value Pr(>|t|)\n",
       "(Intercept)  -2.1120     1.5072  -1.401    0.189\n",
       "prec         -0.1909     0.2201  -0.868    0.404\n",
       "\n",
       "Residual standard error: 3.427 on 11 degrees of freedom\n",
       "Multiple R-squared:  0.06404,\tAdjusted R-squared:  -0.02105 \n",
       "F-statistic: 0.7526 on 1 and 11 DF,  p-value: 0.4042\n"
      ]
     },
     "metadata": {},
     "output_type": "display_data"
    }
   ],
   "source": [
    "## Calculate the SND and the precision\n",
    "snd <- with(dat.bcg, yi/sqrt(vi))\n",
    "prec <- with(dat.bcg, 1/sqrt(vi))\n",
    "## Then create a new data frame called dER\n",
    "dER <- data.frame(snd, prec)\n",
    "## Next, we need to run the Egger's regression test\n",
    "egg.reg <- lm(snd ~ prec, data = dER)\n",
    "summary(egg.reg)"
   ]
  },
  {
   "cell_type": "code",
   "execution_count": 7,
   "metadata": {},
   "outputs": [],
   "source": [
    "## To add confidence lines to the plot, we are using the\n",
    "## predict function.\n",
    "x.new <- seq(0, 20, 0.1)\n",
    "egg.reg.pred <- predict(egg.reg,\n",
    "newdata = data.frame(prec = x.new),\n",
    "interval=\"confidence\")"
   ]
  },
  {
   "cell_type": "code",
   "execution_count": 8,
   "metadata": {},
   "outputs": [
    {
     "data": {
      "image/png": "[encoded data removed]",
      "text/plain": [
       "plot without title"
      ]
     },
     "metadata": {},
     "output_type": "display_data"
    }
   ],
   "source": [
    "## Then, create the plot\n",
    "plot(prec, snd)\n",
    "abline(egg.reg)\n",
    "lines(x.new, egg.reg.pred[ ,3], lty = 'dashed', col = 'red')\n",
    "lines(x.new, egg.reg.pred[ ,2], lty = 'dashed', col = 'red')"
   ]
  },
  {
   "cell_type": "markdown",
   "metadata": {},
   "source": [
    "## Exercise"
   ]
  },
  {
   "cell_type": "markdown",
   "metadata": {},
   "source": [
    "In this exercise, we will learn how to apply the “trim and fill” approach. The `metafor` package provides the function `trimfill(x, ...)`, where `x` is an `rma` object. It is recommended that you read the help files for the `trimfill()` function (you actually have to use `?trimfill.rma.uni` to read the help pages; look for the \"Details\" section). \n",
    "\n",
    "You might want to start by estimating a univariate random effects model. Compare the results of that univariate random effects model and the trim and fill model."
   ]
  },
  {
   "cell_type": "code",
   "execution_count": 9,
   "metadata": {},
   "outputs": [],
   "source": [
    "## Please insert your solution here. Of course, feel free to add new code cells."
   ]
  },
  {
   "cell_type": "code",
   "execution_count": 10,
   "metadata": {},
   "outputs": [],
   "source": [
    "## Please insert your solution here. Of course, feel free to add new code cells."
   ]
  },
  {
   "cell_type": "code",
   "execution_count": 11,
   "metadata": {},
   "outputs": [],
   "source": [
    "## Please insert your solution here. Of course, feel free to add new code cells."
   ]
  }
 ],
 "metadata": {
  "kernelspec": {
   "display_name": "R",
   "language": "R",
   "name": "ir"
  },
  "language_info": {
   "codemirror_mode": "r",
   "file_extension": ".r",
   "mimetype": "text/x-r-source",
   "name": "R",
   "pygments_lexer": "r",
   "version": "3.6.1"
  },
  "toc": {
   "base_numbering": 1,
   "nav_menu": {},
   "number_sections": true,
   "sideBar": true,
   "skip_h1_title": false,
   "title_cell": "Table of Contents",
   "title_sidebar": "Contents",
   "toc_cell": true,
   "toc_position": {},
   "toc_section_display": true,
   "toc_window_display": true
  }
 },
 "nbformat": 4,
 "nbformat_minor": 2
}
