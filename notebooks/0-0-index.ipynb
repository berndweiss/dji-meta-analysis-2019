{
 "cells": [
  {
   "cell_type": "markdown",
   "metadata": {},
   "source": [
    "<h1>GESIS Summer School in Survey Methodology 2018:<br> Meta-Analysis in Social Research and Survey Methodology<span class=\"tocSkip\"></span></h1>"
   ]
  },
  {
   "cell_type": "markdown",
   "metadata": {
    "toc": true
   },
   "source": [
    "<h1>Table of Contents<span class=\"tocSkip\"></span></h1>\n",
    "<div class=\"toc\"><ul class=\"toc-item\"><li><span><a href=\"#Important-remarks\" data-toc-modified-id=\"Important-remarks-1\"><span class=\"toc-item-num\">1&nbsp;&nbsp;</span>Important remarks</a></span></li><li><span><a href=\"#Day-1:-Introduction-to-R-and-Jupyter-notebooks\" data-toc-modified-id=\"Day-1:-Introduction-to-R-and-Jupyter-notebooks-2\"><span class=\"toc-item-num\">2&nbsp;&nbsp;</span>Day 1: Introduction to R and Jupyter notebooks</a></span></li><li><span><a href=\"#Day-2:-Effect-sizes-and-summarizing-effect-size-distributions\" data-toc-modified-id=\"Day-2:-Effect-sizes-and-summarizing-effect-size-distributions-3\"><span class=\"toc-item-num\">3&nbsp;&nbsp;</span>Day 2: Effect sizes and summarizing effect size distributions</a></span></li><li><span><a href=\"#Day-3:-Describing-effect-size-heterogeneity-and-publication-bias\" data-toc-modified-id=\"Day-3:-Describing-effect-size-heterogeneity-and-publication-bias-4\"><span class=\"toc-item-num\">4&nbsp;&nbsp;</span>Day 3: Describing effect size heterogeneity and publication bias</a></span></li><li><span><a href=\"#Day-4:-Meta-regression-and-ANOVA-like-models\" data-toc-modified-id=\"Day-4:-Meta-regression-and-ANOVA-like-models-5\"><span class=\"toc-item-num\">5&nbsp;&nbsp;</span>Day 4: Meta-regression and ANOVA-like models</a></span></li><li><span><a href=\"#Day-5:-Multilevel-meta-analysis\" data-toc-modified-id=\"Day-5:-Multilevel-meta-analysis-6\"><span class=\"toc-item-num\">6&nbsp;&nbsp;</span>Day 5: Multilevel meta-analysis</a></span></li></ul></div>"
   ]
  },
  {
   "cell_type": "markdown",
   "metadata": {},
   "source": [
    "## Important remarks\n",
    "\n",
    "- The links below do **not** work in the `/solutions` folder. \n",
    "- The exercises and solutions will be updated on a daily basis. So, if you download on Monday the Wednesday exercises (and its solution), it is very likely that things will change in the course of the next two days. "
   ]
  },
  {
   "cell_type": "markdown",
   "metadata": {},
   "source": [
    "## Day 1: Introduction to R and Jupyter notebooks"
   ]
  },
  {
   "cell_type": "markdown",
   "metadata": {},
   "source": [
    "- Morning\n",
    "  - [1-1_exercise](1-1_exercise.ipynb): Introduction to R and Jupyter notebooks\n",
    "- Afternoon\n",
    "  - [1-2_exercise](1-2_exercise.ipynb): R introduction II"
   ]
  },
  {
   "cell_type": "markdown",
   "metadata": {},
   "source": [
    "## Day 2: Effect sizes and summarizing effect size distributions"
   ]
  },
  {
   "cell_type": "markdown",
   "metadata": {},
   "source": [
    "- Morning\n",
    "  - [2-1_exercise](2-1_exercise.ipynb): Effect sizes + metafor introduction\n",
    "- Afternoon\n",
    "  - [2-2_exercise](2-2_exercise.ipynb): Summarizing effect size distributions"
   ]
  },
  {
   "cell_type": "markdown",
   "metadata": {},
   "source": [
    "## Day 3: Describing effect size heterogeneity and publication bias"
   ]
  },
  {
   "cell_type": "markdown",
   "metadata": {},
   "source": [
    "- Morning\n",
    "  - [3-1_exercise](3-1_exercise.ipynb): Describing effect size heterogeneity\n",
    "- Afternoon\n",
    "  - [3-2_exercise](3-2_exercise.ipynb): Publication bias"
   ]
  },
  {
   "cell_type": "markdown",
   "metadata": {},
   "source": [
    "## Day 4: Meta-regression and ANOVA-like models"
   ]
  },
  {
   "cell_type": "markdown",
   "metadata": {},
   "source": [
    "- Morning\n",
    "  - [4-1_exercise](4-1_exercise.ipynb): Meta-regression and ANOVA-like models\n",
    "- Afternoon\n",
    "  - [4-2_exercise](4-2_exercise.ipynb): Model diagnostics"
   ]
  },
  {
   "cell_type": "markdown",
   "metadata": {},
   "source": [
    "## Day 5: Multilevel meta-analysis"
   ]
  },
  {
   "cell_type": "markdown",
   "metadata": {},
   "source": [
    "- Morning\n",
    "  - [5-1_exercise](5-1_exercise.ipynb): Multilevel meta-analysis\n",
    "- Afternoon\n",
    "  - [5-2_exercise](5-2_exercise.ipynb): Open office hour"
   ]
  }
 ],
 "metadata": {
  "kernelspec": {
   "display_name": "R",
   "language": "R",
   "name": "ir"
  },
  "language_info": {
   "codemirror_mode": "r",
   "file_extension": ".r",
   "mimetype": "text/x-r-source",
   "name": "R",
   "pygments_lexer": "r",
   "version": "3.5.1"
  },
  "toc": {
   "base_numbering": 1,
   "nav_menu": {
    "height": "118px",
    "width": "344px"
   },
   "number_sections": true,
   "sideBar": true,
   "skip_h1_title": false,
   "title_cell": "Table of Contents",
   "title_sidebar": "Contents",
   "toc_cell": true,
   "toc_position": {},
   "toc_section_display": true,
   "toc_window_display": true
  }
 },
 "nbformat": 4,
 "nbformat_minor": 2
}
