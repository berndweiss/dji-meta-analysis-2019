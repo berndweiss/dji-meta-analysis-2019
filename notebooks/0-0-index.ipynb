{
 "cells": [
  {
   "cell_type": "markdown",
   "metadata": {},
   "source": [
    "<h1>A two-day workshop at the DJI, Munich 2019:<br> Meta-Analysis in Social Research<span class=\"tocSkip\"></span></h1>"
   ]
  },
  {
   "cell_type": "markdown",
   "metadata": {
    "toc": true
   },
   "source": [
    "<h1>Table of Contents<span class=\"tocSkip\"></span></h1>\n",
    "<div class=\"toc\"><ul class=\"toc-item\"><li><span><a href=\"#Important-remarks\" data-toc-modified-id=\"Important-remarks-1\"><span class=\"toc-item-num\">1&nbsp;&nbsp;</span>Important remarks</a></span></li><li><span><a href=\"#Day-1:-Introduction-to-R,-Jupyter-notebooks,-effect-sizes,-and-summarizing-effect-size-distributions\" data-toc-modified-id=\"Day-1:-Introduction-to-R,-Jupyter-notebooks,-effect-sizes,-and-summarizing-effect-size-distributions-2\"><span class=\"toc-item-num\">2&nbsp;&nbsp;</span>Day 1: Introduction to R, Jupyter notebooks, effect sizes, and summarizing effect size distributions</a></span></li><li><span><a href=\"#Day-2:-Describing-effect-size-heterogeneity-and-publication-bias\" data-toc-modified-id=\"Day-2:-Describing-effect-size-heterogeneity-and-publication-bias-3\"><span class=\"toc-item-num\">3&nbsp;&nbsp;</span>Day 2: Describing effect size heterogeneity and publication bias</a></span></li><li><span><a href=\"#Day-2:-Meta-regression-and-ANOVA-like-models\" data-toc-modified-id=\"Day-2:-Meta-regression-and-ANOVA-like-models-4\"><span class=\"toc-item-num\">4&nbsp;&nbsp;</span>Day 2: Meta-regression and ANOVA-like models</a></span></li></ul></div>"
   ]
  },
  {
   "cell_type": "markdown",
   "metadata": {},
   "source": [
    "## Important remarks\n",
    "\n",
    "- The links below do **not** work in the `/solutions` folder. \n",
    "- The exercises and solutions will be updated on a daily basis.  "
   ]
  },
  {
   "cell_type": "markdown",
   "metadata": {},
   "source": [
    "## Day 1: Introduction to R, Jupyter notebooks, effect sizes, and summarizing effect size distributions"
   ]
  },
  {
   "cell_type": "markdown",
   "metadata": {},
   "source": [
    "- [1-1_exercise](1-1_exercise.ipynb): Introduction to R and Jupyter notebooks\n",
    "- [1-2_exercise](1-2_exercise.ipynb): R introduction II\n",
    "- [2-1_exercise](2-1_exercise.ipynb): Effect sizes + metafor introduction\n",
    "- [2-2_exercise](2-2_exercise.ipynb): Summarizing effect size distributions"
   ]
  },
  {
   "cell_type": "markdown",
   "metadata": {},
   "source": [
    "## Day 2: Describing effect size heterogeneity and publication bias"
   ]
  },
  {
   "cell_type": "markdown",
   "metadata": {},
   "source": [
    "- [3-1_exercise](3-1_exercise.ipynb): Describing effect size heterogeneity\n",
    "- [3-2_exercise](3-2_exercise.ipynb): Publication bias"
   ]
  },
  {
   "cell_type": "markdown",
   "metadata": {},
   "source": [
    "## Day 2: Meta-regression and ANOVA-like models"
   ]
  },
  {
   "cell_type": "markdown",
   "metadata": {},
   "source": [
    "- [4-1_exercise](4-1_exercise.ipynb): Meta-regression and ANOVA-like models\n",
    "- [4-2_exercise](4-2_exercise.ipynb): Model diagnostics"
   ]
  }
 ],
 "metadata": {
  "kernelspec": {
   "display_name": "R",
   "language": "R",
   "name": "ir"
  },
  "language_info": {
   "codemirror_mode": "r",
   "file_extension": ".r",
   "mimetype": "text/x-r-source",
   "name": "R",
   "pygments_lexer": "r",
   "version": "3.6.1"
  },
  "toc": {
   "base_numbering": 1,
   "nav_menu": {
    "height": "118px",
    "width": "344px"
   },
   "number_sections": true,
   "sideBar": true,
   "skip_h1_title": false,
   "title_cell": "Table of Contents",
   "title_sidebar": "Contents",
   "toc_cell": true,
   "toc_position": {},
   "toc_section_display": true,
   "toc_window_display": true
  }
 },
 "nbformat": 4,
 "nbformat_minor": 2
}
